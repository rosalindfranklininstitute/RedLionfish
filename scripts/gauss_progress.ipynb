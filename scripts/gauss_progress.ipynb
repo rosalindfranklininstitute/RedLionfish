{
 "cells": [
  {
   "cell_type": "code",
   "execution_count": 1,
   "metadata": {},
   "outputs": [],
   "source": [
    "%display latex"
   ]
  },
  {
   "cell_type": "markdown",
   "metadata": {},
   "source": [
    "# Gaussian propagation through RL iterations\n",
    "\n",
    "This is a *SageMath* notebook!\n",
    "https://www.sagemath.org/index.html\n",
    "\n",
    "If in windows, you need to run from WSL + Ubuntu/Debian + miniconda environment containing `sage` package. Don't try to run this in VS code.\n",
    "\n",
    "In linux, install miniconda (new environment) and install `sage` package from conda-forge, for example `conda create -n sage_env python=3.8 sage -c conda-forge`.\n",
    "\n",
    "To start this SageMath notebook, run from the *activated* command line `sage -n jupyter` and navigate to this file.\n",
    "\n",
    "This notebook examines the effect that RL deconvolution has with 1D gaussian functions for psf and data."
   ]
  },
  {
   "cell_type": "markdown",
   "metadata": {},
   "source": [
    "## 'Gaussian' mathematics\n",
    "\n",
    "There are important properties of gaussian functions centered at zero that are exploited in this analysis.\n",
    "\n",
    "Consider the generic Gaussian function (centered at zero)"
   ]
  },
  {
   "cell_type": "code",
   "execution_count": 2,
   "metadata": {},
   "outputs": [
    {
     "data": {
      "text/html": [
       "<html>\\(\\displaystyle A e^{\\left(-\\frac{x^{2}}{\\sigma^{2}}\\right)}\\)</html>"
      ],
      "text/latex": [
       "$\\displaystyle A e^{\\left(-\\frac{x^{2}}{\\sigma^{2}}\\right)}$"
      ],
      "text/plain": [
       "A*e^(-x^2/sigma^2)"
      ]
     },
     "execution_count": 2,
     "metadata": {},
     "output_type": "execute_result"
    }
   ],
   "source": [
    "G(x,sigma,A) = A*exp(-x^2/sigma^2)\n",
    "G(x,sigma,A)"
   ]
  },
  {
   "cell_type": "markdown",
   "metadata": {},
   "source": [
    "Then the...\n",
    "\n",
    "**1. Multiplication (or division) of two gaussians is another gaussian**"
   ]
  },
  {
   "cell_type": "code",
   "execution_count": 3,
   "metadata": {},
   "outputs": [
    {
     "data": {
      "text/html": [
       "<html>\\(\\displaystyle A_{1} A_{2} e^{\\left(-\\frac{x^{2}}{\\sigma_{1}^{2}} - \\frac{x^{2}}{\\sigma_{2}^{2}}\\right)}\\)</html>"
      ],
      "text/latex": [
       "$\\displaystyle A_{1} A_{2} e^{\\left(-\\frac{x^{2}}{\\sigma_{1}^{2}} - \\frac{x^{2}}{\\sigma_{2}^{2}}\\right)}$"
      ],
      "text/plain": [
       "A1*A2*e^(-x^2/sigma1^2 - x^2/sigma2^2)"
      ]
     },
     "execution_count": 3,
     "metadata": {},
     "output_type": "execute_result"
    }
   ],
   "source": [
    "x, sigma1, sigma2, A1, A2, t = var('x, sigma1, sigma2, A1, A2, t')\n",
    "expr= G(x,sigma1,A1)*G(x,sigma2,A2)\n",
    "expr"
   ]
  },
  {
   "cell_type": "markdown",
   "metadata": {},
   "source": [
    "with the new $\\sigma_{3}$ given by"
   ]
  },
  {
   "cell_type": "code",
   "execution_count": 4,
   "metadata": {},
   "outputs": [
    {
     "data": {
      "text/html": [
       "<html>\\(\\displaystyle \\frac{1}{\\frac{1}{\\sigma_{1}^{2}} + \\frac{1}{\\sigma_{2}^{2}}}\\)</html>"
      ],
      "text/latex": [
       "$\\displaystyle \\frac{1}{\\frac{1}{\\sigma_{1}^{2}} + \\frac{1}{\\sigma_{2}^{2}}}$"
      ],
      "text/plain": [
       "1/(1/sigma1^2 + 1/sigma2^2)"
      ]
     },
     "execution_count": 4,
     "metadata": {},
     "output_type": "execute_result"
    }
   ],
   "source": [
    "sigma3 = -2/log(expr).diff(x,2)\n",
    "sigma3.simplify()"
   ]
  },
  {
   "cell_type": "markdown",
   "metadata": {},
   "source": [
    "**2. Convolution of two gaussians is another gaussian**"
   ]
  },
  {
   "cell_type": "code",
   "execution_count": 5,
   "metadata": {},
   "outputs": [
    {
     "data": {
      "text/html": [
       "<html>\\(\\displaystyle \\frac{\\sqrt{\\pi} A_{1} A_{2} e^{\\left(-\\frac{x^{2}}{\\sigma_{1}^{2} + \\sigma_{2}^{2}}\\right)}}{\\sqrt{\\frac{\\sigma_{1}^{2} + \\sigma_{2}^{2}}{\\sigma_{1}^{2} \\sigma_{2}^{2}}}}\\)</html>"
      ],
      "text/latex": [
       "$\\displaystyle \\frac{\\sqrt{\\pi} A_{1} A_{2} e^{\\left(-\\frac{x^{2}}{\\sigma_{1}^{2} + \\sigma_{2}^{2}}\\right)}}{\\sqrt{\\frac{\\sigma_{1}^{2} + \\sigma_{2}^{2}}{\\sigma_{1}^{2} \\sigma_{2}^{2}}}}$"
      ],
      "text/plain": [
       "sqrt(pi)*A1*A2*e^(-x^2/(sigma1^2 + sigma2^2))/sqrt((sigma1^2 + sigma2^2)/(sigma1^2*sigma2^2))"
      ]
     },
     "execution_count": 5,
     "metadata": {},
     "output_type": "execute_result"
    }
   ],
   "source": [
    "expr= integrate( G(t,sigma1,A1)*G(t-x,sigma2,A2) , t, -infinity, infinity,  assume(sigma1^2+sigma2^2>0))\n",
    "expr"
   ]
  },
  {
   "cell_type": "markdown",
   "metadata": {},
   "source": [
    "with the new $\\sigma_{3}$ given by"
   ]
  },
  {
   "cell_type": "code",
   "execution_count": 6,
   "metadata": {},
   "outputs": [
    {
     "data": {
      "text/html": [
       "<html>\\(\\displaystyle \\sigma_{1}^{2} + \\sigma_{2}^{2}\\)</html>"
      ],
      "text/latex": [
       "$\\displaystyle \\sigma_{1}^{2} + \\sigma_{2}^{2}$"
      ],
      "text/plain": [
       "sigma1^2 + sigma2^2"
      ]
     },
     "execution_count": 6,
     "metadata": {},
     "output_type": "execute_result"
    }
   ],
   "source": [
    "sigma3 = -2/log(expr).diff(x,2)\n",
    "sigma3.simplify()"
   ]
  },
  {
   "cell_type": "code",
   "execution_count": null,
   "metadata": {},
   "outputs": [],
   "source": []
  },
  {
   "cell_type": "markdown",
   "metadata": {},
   "source": [
    "## Richardson-Lucy iterations\n",
    "\n",
    "Consider the following data. A single point (dirac delta) that has been convoluted with a PSF. This results in the 'Experimental Image' that is basically identical to the PSF, so it is a gaussian with the same _sigma_(standard deviation).\n",
    "\n",
    "1. Run RL iteration\n",
    "2. Check resulting gaussian (fit peak or calculate), and collect new _sigma_\n",
    "3. back to 1\n",
    "\n",
    "How the _sigma_ value varies with iteration?\n",
    "\n",
    "This can be calculated analytically\n",
    "\n",
    "PSF is the $h(x)$ function.  PSF sigma's is in the $b^{2}= \\sigma^{2}$ value.\n",
    "\n",
    "Assume to start that PSF is the starting image (iteration zero)\n",
    "\n",
    "We focus our attention to the resulting denominator term inside the exponential under x^2"
   ]
  },
  {
   "cell_type": "code",
   "execution_count": 7,
   "metadata": {},
   "outputs": [],
   "source": [
    "b,h,t,x, H= var('b h t x H')"
   ]
  },
  {
   "cell_type": "code",
   "execution_count": 11,
   "metadata": {},
   "outputs": [],
   "source": [
    "h(x) = exp(-x^2/b^2)"
   ]
  },
  {
   "cell_type": "code",
   "execution_count": 12,
   "metadata": {},
   "outputs": [],
   "source": [
    "# rl_1 = term4 = h(x) x ( h(-x) * (h(x) / (h(x) * h(x) )) ) \n",
    "# term3 = h(x) x term2\n",
    "# term2 = h(-x) * term1\n",
    "# term1 = h(x) / term0\n",
    "# term0 = h(x) * h(x)"
   ]
  },
  {
   "cell_type": "code",
   "execution_count": 13,
   "metadata": {
    "scrolled": true
   },
   "outputs": [
    {
     "data": {
      "text/html": [
       "<html>\\(\\displaystyle x \\ {\\mapsto}\\ \\frac{1}{2} \\, \\sqrt{2} \\sqrt{\\pi} \\sqrt{b^{2}} e^{\\left(-\\frac{x^{2}}{2 \\, b^{2}}\\right)}\\)</html>"
      ],
      "text/latex": [
       "$\\displaystyle x \\ {\\mapsto}\\ \\frac{1}{2} \\, \\sqrt{2} \\sqrt{\\pi} \\sqrt{b^{2}} e^{\\left(-\\frac{x^{2}}{2 \\, b^{2}}\\right)}$"
      ],
      "text/plain": [
       "x |--> 1/2*sqrt(2)*sqrt(pi)*sqrt(b^2)*e^(-1/2*x^2/b^2)"
      ]
     },
     "execution_count": 13,
     "metadata": {},
     "output_type": "execute_result"
    }
   ],
   "source": [
    "# Convolution h(x) * h(x)\n",
    "term0(x) = integrate( h(t)*h(t-x) , t, -infinity, infinity)\n",
    "term0"
   ]
  },
  {
   "cell_type": "code",
   "execution_count": 14,
   "metadata": {},
   "outputs": [
    {
     "data": {
      "text/html": [
       "<html>\\(\\displaystyle x \\ {\\mapsto}\\ \\frac{\\sqrt{2} e^{\\left(-\\frac{x^{2}}{2 \\, b^{2}}\\right)}}{\\sqrt{\\pi} \\sqrt{b^{2}}}\\)</html>"
      ],
      "text/latex": [
       "$\\displaystyle x \\ {\\mapsto}\\ \\frac{\\sqrt{2} e^{\\left(-\\frac{x^{2}}{2 \\, b^{2}}\\right)}}{\\sqrt{\\pi} \\sqrt{b^{2}}}$"
      ],
      "text/plain": [
       "x |--> sqrt(2)*e^(-1/2*x^2/b^2)/(sqrt(pi)*sqrt(b^2))"
      ]
     },
     "execution_count": 14,
     "metadata": {},
     "output_type": "execute_result"
    }
   ],
   "source": [
    "term1(x) = h(x) / term0(x)\n",
    "term1"
   ]
  },
  {
   "cell_type": "code",
   "execution_count": 15,
   "metadata": {},
   "outputs": [
    {
     "data": {
      "text/html": [
       "<html>\\(\\displaystyle x \\ {\\mapsto}\\ \\frac{2}{3} \\, \\sqrt{2} \\sqrt{\\frac{3}{2}} e^{\\left(-\\frac{x^{2}}{3 \\, b^{2}}\\right)}\\)</html>"
      ],
      "text/latex": [
       "$\\displaystyle x \\ {\\mapsto}\\ \\frac{2}{3} \\, \\sqrt{2} \\sqrt{\\frac{3}{2}} e^{\\left(-\\frac{x^{2}}{3 \\, b^{2}}\\right)}$"
      ],
      "text/plain": [
       "x |--> 2/3*sqrt(2)*sqrt(3/2)*e^(-1/3*x^2/b^2)"
      ]
     },
     "execution_count": 15,
     "metadata": {},
     "output_type": "execute_result"
    }
   ],
   "source": [
    "term2(x) = integrate( h(-t)*term1(t-x) , t, -infinity, infinity)\n",
    "term2"
   ]
  },
  {
   "cell_type": "code",
   "execution_count": 16,
   "metadata": {},
   "outputs": [
    {
     "data": {
      "text/html": [
       "<html>\\(\\displaystyle \\frac{2}{3} \\, \\sqrt{2} \\sqrt{\\frac{3}{2}} e^{\\left(-\\frac{4 \\, x^{2}}{3 \\, b^{2}}\\right)}\\)</html>"
      ],
      "text/latex": [
       "$\\displaystyle \\frac{2}{3} \\, \\sqrt{2} \\sqrt{\\frac{3}{2}} e^{\\left(-\\frac{4 \\, x^{2}}{3 \\, b^{2}}\\right)}$"
      ],
      "text/plain": [
       "2/3*sqrt(2)*sqrt(3/2)*e^(-4/3*x^2/b^2)"
      ]
     },
     "execution_count": 16,
     "metadata": {},
     "output_type": "execute_result"
    }
   ],
   "source": [
    "term3 = h(x)*term2(x)\n",
    "term3"
   ]
  },
  {
   "cell_type": "code",
   "execution_count": 17,
   "metadata": {},
   "outputs": [
    {
     "data": {
      "text/html": [
       "<html>\\(\\displaystyle \\frac{2}{3} \\, \\sqrt{3} e^{\\left(-\\frac{4 \\, x^{2}}{3 \\, b^{2}}\\right)}\\)</html>"
      ],
      "text/latex": [
       "$\\displaystyle \\frac{2}{3} \\, \\sqrt{3} e^{\\left(-\\frac{4 \\, x^{2}}{3 \\, b^{2}}\\right)}$"
      ],
      "text/plain": [
       "2/3*sqrt(3)*e^(-4/3*x^2/b^2)"
      ]
     },
     "execution_count": 17,
     "metadata": {},
     "output_type": "execute_result"
    }
   ],
   "source": [
    "res(x) = simplify(term3)\n",
    "res(x)"
   ]
  },
  {
   "cell_type": "markdown",
   "metadata": {},
   "source": [
    "The result after first iteration is another gaussian but with different variance"
   ]
  },
  {
   "cell_type": "markdown",
   "metadata": {},
   "source": [
    "try to extract term under denominator"
   ]
  },
  {
   "cell_type": "code",
   "execution_count": 18,
   "metadata": {
    "scrolled": true
   },
   "outputs": [
    {
     "data": {
      "text/html": [
       "<html>\\(\\displaystyle \\log\\left(\\frac{2}{3} \\, \\sqrt{3} e^{\\left(-\\frac{4 \\, x^{2}}{3 \\, b^{2}}\\right)}\\right)\\)</html>"
      ],
      "text/latex": [
       "$\\displaystyle \\log\\left(\\frac{2}{3} \\, \\sqrt{3} e^{\\left(-\\frac{4 \\, x^{2}}{3 \\, b^{2}}\\right)}\\right)$"
      ],
      "text/plain": [
       "log(2/3*sqrt(3)*e^(-4/3*x^2/b^2))"
      ]
     },
     "execution_count": 18,
     "metadata": {},
     "output_type": "execute_result"
    }
   ],
   "source": [
    "expand(ln(res(x)))"
   ]
  },
  {
   "cell_type": "code",
   "execution_count": 16,
   "metadata": {},
   "outputs": [],
   "source": [
    "f(x) = ln(res(x))"
   ]
  },
  {
   "cell_type": "code",
   "execution_count": 17,
   "metadata": {},
   "outputs": [
    {
     "data": {
      "text/html": [
       "<html>\\(\\displaystyle x \\ {\\mapsto}\\ \\frac{3}{4} \\, b^{2}\\)</html>"
      ],
      "text/latex": [
       "$\\displaystyle x \\ {\\mapsto}\\ \\frac{3}{4} \\, b^{2}$"
      ],
      "text/plain": [
       "x |--> 3/4*b^2"
      ]
     },
     "execution_count": 17,
     "metadata": {},
     "output_type": "execute_result"
    }
   ],
   "source": [
    "-2/f.diff(x,2)"
   ]
  },
  {
   "cell_type": "markdown",
   "metadata": {},
   "source": [
    "Note the denominator term inside the exponential went from $b^2$ to $3/4b^2$, smaller width"
   ]
  },
  {
   "cell_type": "markdown",
   "metadata": {},
   "source": [
    "Now, what happens if the later iterations, where the earlier iteration is a gaussian with a different variance than PSF. Note that the starting image (iteration=0) is still assumed to be equal to the PSF"
   ]
  },
  {
   "cell_type": "code",
   "execution_count": 18,
   "metadata": {},
   "outputs": [],
   "source": [
    "R = var('R')\n",
    "r = var('r')"
   ]
  },
  {
   "cell_type": "markdown",
   "metadata": {},
   "source": [
    "Iteration"
   ]
  },
  {
   "cell_type": "code",
   "execution_count": 19,
   "metadata": {},
   "outputs": [],
   "source": [
    "Rn(x) = R*exp(-x^2/r^2)"
   ]
  },
  {
   "cell_type": "markdown",
   "metadata": {},
   "source": [
    "variance of Rn is $r^2$"
   ]
  },
  {
   "cell_type": "markdown",
   "metadata": {},
   "source": [
    "PSF"
   ]
  },
  {
   "cell_type": "code",
   "execution_count": 20,
   "metadata": {},
   "outputs": [],
   "source": [
    "h(x) = H*exp(-x^2/b^2)"
   ]
  },
  {
   "cell_type": "code",
   "execution_count": 21,
   "metadata": {},
   "outputs": [],
   "source": [
    "# rl_n = rterm3\n",
    "# rterm3 = Rn(x) x rterm2\n",
    "# rterm2 = h(-x) * rterm1\n",
    "# rterm1 = h(x) / rterm0  #R0=h(x) in this example\n",
    "# rterm0 = h(x) * Rn(x)"
   ]
  },
  {
   "cell_type": "code",
   "execution_count": 22,
   "metadata": {},
   "outputs": [],
   "source": [
    "#Convolution at denominator\n",
    "rterm0(x) = integrate( h(t)*Rn(t-x) , t, -infinity, infinity, assume(r^2+b^2>0))"
   ]
  },
  {
   "cell_type": "code",
   "execution_count": 23,
   "metadata": {},
   "outputs": [],
   "source": [
    "rterm1(x) = h(x) / rterm0(x)"
   ]
  },
  {
   "cell_type": "code",
   "execution_count": 24,
   "metadata": {},
   "outputs": [],
   "source": [
    "#Convolution with flipped PSF\n",
    "rterm2(x) = integrate( h(-t)*rterm1(t-x) , t, -infinity, infinity, assume(2*r^2+b^2>0))"
   ]
  },
  {
   "cell_type": "code",
   "execution_count": 25,
   "metadata": {},
   "outputs": [],
   "source": [
    "rterm3(x) = Rn(x) * rterm2(x)"
   ]
  },
  {
   "cell_type": "code",
   "execution_count": 26,
   "metadata": {},
   "outputs": [
    {
     "data": {
      "text/html": [
       "<html>\\(\\displaystyle x \\ {\\mapsto}\\ \\frac{\\sqrt{\\frac{b^{2} + r^{2}}{b^{2} r^{2}}} e^{\\left(-\\frac{r^{2} x^{2}}{b^{4} + 2 \\, b^{2} r^{2}} - \\frac{x^{2}}{r^{2}}\\right)}}{\\sqrt{\\frac{b^{2} + 2 \\, r^{2}}{b^{4} + b^{2} r^{2}}}}\\)</html>"
      ],
      "text/latex": [
       "$\\displaystyle x \\ {\\mapsto}\\ \\frac{\\sqrt{\\frac{b^{2} + r^{2}}{b^{2} r^{2}}} e^{\\left(-\\frac{r^{2} x^{2}}{b^{4} + 2 \\, b^{2} r^{2}} - \\frac{x^{2}}{r^{2}}\\right)}}{\\sqrt{\\frac{b^{2} + 2 \\, r^{2}}{b^{4} + b^{2} r^{2}}}}$"
      ],
      "text/plain": [
       "x |--> sqrt((b^2 + r^2)/(b^2*r^2))*e^(-r^2*x^2/(b^4 + 2*b^2*r^2) - x^2/r^2)/sqrt((b^2 + 2*r^2)/(b^4 + b^2*r^2))"
      ]
     },
     "execution_count": 26,
     "metadata": {},
     "output_type": "execute_result"
    }
   ],
   "source": [
    "simplify(rterm3)"
   ]
  },
  {
   "cell_type": "markdown",
   "metadata": {},
   "source": [
    "Interesting enough, The $R$ amplitude in $R_n$ is not appearing in this result"
   ]
  },
  {
   "cell_type": "markdown",
   "metadata": {},
   "source": [
    "Collect term under $x^2$ using the log diff-trick"
   ]
  },
  {
   "cell_type": "code",
   "execution_count": 27,
   "metadata": {},
   "outputs": [],
   "source": [
    "f(x) = ln(rterm3(x))"
   ]
  },
  {
   "cell_type": "code",
   "execution_count": 28,
   "metadata": {
    "scrolled": true
   },
   "outputs": [
    {
     "data": {
      "text/html": [
       "<html>\\(\\displaystyle x \\ {\\mapsto}\\ \\frac{1}{\\frac{r^{2}}{b^{4} + 2 \\, b^{2} r^{2}} + \\frac{1}{r^{2}}}\\)</html>"
      ],
      "text/latex": [
       "$\\displaystyle x \\ {\\mapsto}\\ \\frac{1}{\\frac{r^{2}}{b^{4} + 2 \\, b^{2} r^{2}} + \\frac{1}{r^{2}}}$"
      ],
      "text/plain": [
       "x |--> 1/(r^2/(b^4 + 2*b^2*r^2) + 1/r^2)"
      ]
     },
     "execution_count": 28,
     "metadata": {},
     "output_type": "execute_result"
    }
   ],
   "source": [
    "simplify(-2/f.diff(x,2))"
   ]
  },
  {
   "cell_type": "markdown",
   "metadata": {},
   "source": [
    "This is the new variance value as a function of the original PSF variance $b^2$ and from previous iteration $r^2$"
   ]
  },
  {
   "cell_type": "markdown",
   "metadata": {},
   "source": [
    "Construct a new function that calculates variance from previous iterations variances"
   ]
  },
  {
   "cell_type": "code",
   "execution_count": 29,
   "metadata": {},
   "outputs": [
    {
     "data": {
      "text/html": [
       "<html>\\(\\displaystyle \\left( b, r \\right) \\ {\\mapsto} \\ \\frac{1}{\\frac{r^{2}}{b^{4} + 2 \\, b^{2} r^{2}} + \\frac{1}{r^{2}}}\\)</html>"
      ],
      "text/latex": [
       "$\\displaystyle \\left( b, r \\right) \\ {\\mapsto} \\ \\frac{1}{\\frac{r^{2}}{b^{4} + 2 \\, b^{2} r^{2}} + \\frac{1}{r^{2}}}$"
      ],
      "text/plain": [
       "(b, r) |--> 1/(r^2/(b^4 + 2*b^2*r^2) + 1/r^2)"
      ]
     },
     "execution_count": 29,
     "metadata": {},
     "output_type": "execute_result"
    }
   ],
   "source": [
    "nextiter(b,r) = simplify(-2/f.diff(x,2))\n",
    "nextiter"
   ]
  },
  {
   "cell_type": "code",
   "execution_count": 30,
   "metadata": {},
   "outputs": [
    {
     "data": {
      "text/html": [
       "<html>\\(\\displaystyle b \\ {\\mapsto}\\ \\frac{3}{4} \\, b^{2}\\)</html>"
      ],
      "text/latex": [
       "$\\displaystyle b \\ {\\mapsto}\\ \\frac{3}{4} \\, b^{2}$"
      ],
      "text/plain": [
       "b |--> 3/4*b^2"
      ]
     },
     "execution_count": 30,
     "metadata": {},
     "output_type": "execute_result"
    }
   ],
   "source": [
    "#iteration zero\n",
    "iter0(b)= nextiter(b,b) \n",
    "iter0"
   ]
  },
  {
   "cell_type": "code",
   "execution_count": 31,
   "metadata": {},
   "outputs": [
    {
     "data": {
      "text/html": [
       "<html>\\(\\displaystyle b \\ {\\mapsto}\\ \\frac{18}{\\frac{81 \\, b^{4}}{9 \\, b^{6} + 8 \\, b^{4}} + \\frac{32}{b^{4}}}\\)</html>"
      ],
      "text/latex": [
       "$\\displaystyle b \\ {\\mapsto}\\ \\frac{18}{\\frac{81 \\, b^{4}}{9 \\, b^{6} + 8 \\, b^{4}} + \\frac{32}{b^{4}}}$"
      ],
      "text/plain": [
       "b |--> 18/(81*b^4/(9*b^6 + 8*b^4) + 32/b^4)"
      ]
     },
     "execution_count": 31,
     "metadata": {},
     "output_type": "execute_result"
    }
   ],
   "source": [
    "iter1(b) = nextiter(b, iter0(b))\n",
    "simplify(iter1)"
   ]
  },
  {
   "cell_type": "markdown",
   "metadata": {},
   "source": [
    "quite complex"
   ]
  },
  {
   "cell_type": "markdown",
   "metadata": {},
   "source": [
    "See what happens if we start with PSF variance b=1"
   ]
  },
  {
   "cell_type": "code",
   "execution_count": 32,
   "metadata": {},
   "outputs": [
    {
     "data": {
      "text/html": [
       "<html>\\(\\displaystyle 0.750000000000000\\)</html>"
      ],
      "text/latex": [
       "$\\displaystyle 0.750000000000000$"
      ],
      "text/plain": [
       "0.750000000000000"
      ]
     },
     "execution_count": 32,
     "metadata": {},
     "output_type": "execute_result"
    }
   ],
   "source": [
    "iter0=nextiter(1,1)\n",
    "N(iter0)"
   ]
  },
  {
   "cell_type": "code",
   "execution_count": 33,
   "metadata": {},
   "outputs": [
    {
     "data": {
      "text/html": [
       "<html>\\(\\displaystyle 0.489600000000000\\)</html>"
      ],
      "text/latex": [
       "$\\displaystyle 0.489600000000000$"
      ],
      "text/plain": [
       "0.489600000000000"
      ]
     },
     "execution_count": 33,
     "metadata": {},
     "output_type": "execute_result"
    }
   ],
   "source": [
    "iter1 = nextiter(1,iter0)\n",
    "N(iter1)"
   ]
  },
  {
   "cell_type": "code",
   "execution_count": 34,
   "metadata": {},
   "outputs": [
    {
     "data": {
      "text/html": [
       "<html>\\(\\displaystyle 0.230746065165781\\)</html>"
      ],
      "text/latex": [
       "$\\displaystyle 0.230746065165781$"
      ],
      "text/plain": [
       "0.230746065165781"
      ]
     },
     "execution_count": 34,
     "metadata": {},
     "output_type": "execute_result"
    }
   ],
   "source": [
    "iter2 = nextiter(1,iter1)\n",
    "N(iter2)"
   ]
  },
  {
   "cell_type": "code",
   "execution_count": 35,
   "metadata": {},
   "outputs": [
    {
     "data": {
      "text/html": [
       "<html>\\(\\displaystyle 0.0531076810823308\\)</html>"
      ],
      "text/latex": [
       "$\\displaystyle 0.0531076810823308$"
      ],
      "text/plain": [
       "0.0531076810823308"
      ]
     },
     "execution_count": 35,
     "metadata": {},
     "output_type": "execute_result"
    }
   ],
   "source": [
    "iter3 = nextiter(1,iter2)\n",
    "N(iter3)"
   ]
  },
  {
   "cell_type": "code",
   "execution_count": 36,
   "metadata": {},
   "outputs": [
    {
     "data": {
      "text/html": [
       "<html>\\(\\displaystyle 0.00282040348003919\\)</html>"
      ],
      "text/latex": [
       "$\\displaystyle 0.00282040348003919$"
      ],
      "text/plain": [
       "0.00282040348003919"
      ]
     },
     "execution_count": 36,
     "metadata": {},
     "output_type": "execute_result"
    }
   ],
   "source": [
    "iter4 = nextiter(1,iter3)\n",
    "N(iter4)"
   ]
  },
  {
   "cell_type": "markdown",
   "metadata": {},
   "source": [
    "Value for the gaussian variance decreases for each iteration"
   ]
  },
  {
   "cell_type": "code",
   "execution_count": null,
   "metadata": {},
   "outputs": [],
   "source": []
  }
 ],
 "metadata": {
  "kernelspec": {
   "display_name": "SageMath 9.8",
   "language": "sage",
   "name": "sagemath"
  },
  "language_info": {
   "codemirror_mode": {
    "name": "ipython",
    "version": 3
   },
   "file_extension": ".py",
   "mimetype": "text/x-python",
   "name": "python",
   "nbconvert_exporter": "python",
   "pygments_lexer": "ipython3",
   "version": "3.8.16"
  },
  "vscode": {
   "interpreter": {
    "hash": "a87b54ad46405437d3e00763e5098df12a20a5deea186cc83dee77a3fbe8b3de"
   }
  }
 },
 "nbformat": 4,
 "nbformat_minor": 4
}
