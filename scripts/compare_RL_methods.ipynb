{
 "cells": [
  {
   "cell_type": "code",
   "execution_count": 1,
   "metadata": {},
   "outputs": [],
   "source": [
    "import numpy as np\n",
    "import RedLionfishDeconv.RLDeconv3DScipy as rls\n",
    "import tifffile\n",
    "import os\n",
    "import napari"
   ]
  },
  {
   "cell_type": "code",
   "execution_count": 2,
   "metadata": {},
   "outputs": [],
   "source": [
    "#Path is referenced from notebook location\n",
    "data = tifffile.imread(\"testdata/gendata_psfconv_poiss.tif\")\n",
    "psf = tifffile.imread(\"testdata/PSF_RFI_8bit.tif\")"
   ]
  },
  {
   "cell_type": "code",
   "execution_count": 3,
   "metadata": {},
   "outputs": [
    {
     "data": {
      "text/plain": [
       "(160, 160, 160)"
      ]
     },
     "execution_count": 3,
     "metadata": {},
     "output_type": "execute_result"
    }
   ],
   "source": [
    "data.shape"
   ]
  },
  {
   "cell_type": "code",
   "execution_count": 4,
   "metadata": {},
   "outputs": [
    {
     "data": {
      "text/plain": [
       "1094998"
      ]
     },
     "execution_count": 4,
     "metadata": {},
     "output_type": "execute_result"
    }
   ],
   "source": [
    "psf.sum()"
   ]
  },
  {
   "cell_type": "code",
   "execution_count": 5,
   "metadata": {},
   "outputs": [],
   "source": [
    "psf_f = psf.astype(np.float32)"
   ]
  },
  {
   "cell_type": "code",
   "execution_count": 6,
   "metadata": {},
   "outputs": [],
   "source": [
    "psf_norm = psf_f/psf_f.sum()"
   ]
  },
  {
   "cell_type": "code",
   "execution_count": 7,
   "metadata": {},
   "outputs": [
    {
     "data": {
      "text/plain": [
       "1.0"
      ]
     },
     "execution_count": 7,
     "metadata": {},
     "output_type": "execute_result"
    }
   ],
   "source": [
    "psf_norm.sum()"
   ]
  },
  {
   "cell_type": "code",
   "execution_count": 9,
   "metadata": {},
   "outputs": [
    {
     "name": "stdout",
     "output_type": "stream",
     "text": [
      "Starting RL calculation using doRLDeconvolution_DL2_4()\n",
      "Completed\n",
      "res0 shape:(160, 160, 160), dtype: float32, max,min: 1293.8343505859375,0.0\n"
     ]
    }
   ],
   "source": [
    "print(\"Starting RL calculation using doRLDeconvolution_DL2_4()\")\n",
    "res0 = rls.doRLDeconvolution_DL2_4(data,psf_norm, niter=3)\n",
    "print(\"Completed\")\n",
    "print(f\"res0 shape:{res0.shape}, dtype: {res0.dtype}, max,min: {res0.max()},{res0.min()}\")"
   ]
  },
  {
   "cell_type": "code",
   "execution_count": 8,
   "metadata": {},
   "outputs": [
    {
     "name": "stdout",
     "output_type": "stream",
     "text": [
      "Starting RL calculation using nonBlock_RLDeconvolutionReiknaOCL()\n",
      "Completed\n",
      "res1 shape:(160, 160, 160), dtype: float32, max,min: 1293.8333740234375,0.0\n"
     ]
    }
   ],
   "source": [
    "import RedLionfishDeconv.RLDeconv3DReiknaOCL as rlocl\n",
    "print(\"Starting RL calculation using nonBlock_RLDeconvolutionReiknaOCL()\")\n",
    "res1 = rlocl.nonBlock_RLDeconvolutionReiknaOCL(data,psf_norm, niter=3)\n",
    "print(\"Completed\")\n",
    "print(f\"res1 shape:{res1.shape}, dtype: {res1.dtype}, max,min: {res1.max()},{res1.min()}\")"
   ]
  },
  {
   "cell_type": "code",
   "execution_count": 10,
   "metadata": {},
   "outputs": [
    {
     "name": "stdout",
     "output_type": "stream",
     "text": [
      "Starting RL calculation using skimage.restoration.richardson_lucy()\n",
      "Completed\n",
      "res_skimage shape:(160, 160, 160), dtype: float64, max,min: 283.6625643370356,-1.1211678747872315e-45\n"
     ]
    }
   ],
   "source": [
    "import skimage.restoration\n",
    "print(\"Starting RL calculation using skimage.restoration.richardson_lucy()\")\n",
    "res_skimage = skimage.restoration.richardson_lucy(data,psf_norm, num_iter = 3, clip=False)\n",
    "print(\"Completed\")\n",
    "print(f\"res_skimage shape:{res_skimage.shape}, dtype: {res_skimage.dtype}, max,min: {res_skimage.max()},{res_skimage.min()}\")"
   ]
  },
  {
   "cell_type": "markdown",
   "metadata": {},
   "source": [
    "Strangely they give different results in intensity, so maybe not a good way to test RL code"
   ]
  },
  {
   "cell_type": "code",
   "execution_count": 11,
   "metadata": {},
   "outputs": [
    {
     "data": {
      "text/plain": [
       "<Image layer 'res_skimage' at 0x1b345555760>"
      ]
     },
     "execution_count": 11,
     "metadata": {},
     "output_type": "execute_result"
    }
   ],
   "source": [
    "NV=napari.Viewer()\n",
    "NV.add_image(res0)\n",
    "NV.add_image(res1)\n",
    "NV.add_image(res_skimage)"
   ]
  },
  {
   "cell_type": "code",
   "execution_count": 12,
   "metadata": {},
   "outputs": [
    {
     "data": {
      "text/plain": [
       "True"
      ]
     },
     "execution_count": 12,
     "metadata": {},
     "output_type": "execute_result"
    }
   ],
   "source": [
    "# absolute(a - b) <= (atol + rtol * absolute(b))\n",
    "\n",
    "#np.allclose(res0,res1,rtol=1e-5, atol=1e-30)\n",
    "#np.allclose(res0,res1,atol=1e-30)\n",
    "np.allclose(res0,res1) #Use defaule rtol and atol "
   ]
  },
  {
   "cell_type": "code",
   "execution_count": 13,
   "metadata": {},
   "outputs": [
    {
     "data": {
      "text/plain": [
       "0.0009765625"
      ]
     },
     "execution_count": 13,
     "metadata": {},
     "output_type": "execute_result"
    }
   ],
   "source": [
    "#Maximum difference\n",
    "np.max(np.abs(res0-res1))"
   ]
  },
  {
   "cell_type": "code",
   "execution_count": 14,
   "metadata": {},
   "outputs": [
    {
     "data": {
      "text/plain": [
       "1035.6352172565466"
      ]
     },
     "execution_count": 14,
     "metadata": {},
     "output_type": "execute_result"
    }
   ],
   "source": [
    "#Maximum difference\n",
    "np.max(np.abs(res0-res_skimage))"
   ]
  },
  {
   "cell_type": "code",
   "execution_count": 16,
   "metadata": {},
   "outputs": [
    {
     "name": "stdout",
     "output_type": "stream",
     "text": [
      "18409407\n",
      "18559448.0\n",
      "18559448.0\n",
      "18626902.969301894\n"
     ]
    }
   ],
   "source": [
    "#Just for curiosity, compare the sum of values before and after convolution\n",
    "print(np.sum(data))\n",
    "print(np.sum(res0))\n",
    "print(np.sum(res1))\n",
    "print(np.sum(res_skimage))"
   ]
  },
  {
   "cell_type": "markdown",
   "metadata": {},
   "source": [
    "## Large(r) data"
   ]
  },
  {
   "cell_type": "code",
   "execution_count": 17,
   "metadata": {},
   "outputs": [
    {
     "name": "stdout",
     "output_type": "stream",
     "text": [
      "(256, 256, 256)\n"
     ]
    }
   ],
   "source": [
    "#Generate 256x256x256 data for testing\n",
    "#Create a 2d array to do FFT\n",
    "ashape = (256,256,256)\n",
    "\n",
    "a = np.zeros(ashape, dtype=np.float32)\n",
    "\n",
    "#Add a few cubes in grid-like locations\n",
    "cubesize=2\n",
    "cubespacing=60\n",
    "for iz in range(int(cubespacing/2),ashape[0],cubespacing):\n",
    "    for iy in range(int(cubespacing/2),ashape[1],cubespacing):\n",
    "        for ix in range(int(cubespacing/2),ashape[2],cubespacing):\n",
    "            a[iz:iz+cubesize , iy:iy+cubesize , ix:ix+cubesize] = np.ones((cubesize,cubesize,cubesize))\n",
    "\n",
    "#Convolute with experimental PSF\n",
    "psf = tifffile.imread(\"testdata/PSF_RFI_8bit.tif\")\n",
    "psf_f = psf.astype(np.float32)\n",
    "psf_norm = psf_f/ np.sum(psf_f)\n",
    "assert np.sum(psf_norm)==1.0\n",
    "\n",
    "import scipy.signal\n",
    "data_large = scipy.signal.convolve(a, psf_norm, mode='same')\n",
    "print(data_large.shape)"
   ]
  },
  {
   "cell_type": "code",
   "execution_count": 18,
   "metadata": {},
   "outputs": [
    {
     "name": "stdout",
     "output_type": "stream",
     "text": [
      "Starting RL calculation using doRLDeconvolution_DL2_4()\n",
      "Completed\n",
      "res0 shape:(256, 256, 256), dtype: float32, max,min: 0.009696509689092636,-0.00010524897516006604\n"
     ]
    }
   ],
   "source": [
    "print(\"Starting RL calculation using doRLDeconvolution_DL2_4()\")\n",
    "res0 = rls.doRLDeconvolution_DL2_4(data_large,psf_norm, niter=3)\n",
    "print(\"Completed\")\n",
    "print(f\"res0 shape:{res0.shape}, dtype: {res0.dtype}, max,min: {res0.max()},{res0.min()}\")"
   ]
  },
  {
   "cell_type": "code",
   "execution_count": 19,
   "metadata": {},
   "outputs": [
    {
     "name": "stdout",
     "output_type": "stream",
     "text": [
      "Starting RL calculation using nonBlock_RLDeconvolutionReiknaOCL()\n",
      "Completed\n",
      "res1 shape:(256, 256, 256), dtype: float32, max,min: 0.00969840306788683,-3.860086144413799e-05\n"
     ]
    }
   ],
   "source": [
    "import RedLionfishDeconv.RLDeconv3DReiknaOCL as rlocl\n",
    "print(\"Starting RL calculation using nonBlock_RLDeconvolutionReiknaOCL()\")\n",
    "res1 = rlocl.nonBlock_RLDeconvolutionReiknaOCL(data_large,psf_norm, niter=3)\n",
    "print(\"Completed\")\n",
    "print(f\"res1 shape:{res1.shape}, dtype: {res1.dtype}, max,min: {res1.max()},{res1.min()}\")"
   ]
  },
  {
   "cell_type": "code",
   "execution_count": 25,
   "metadata": {},
   "outputs": [
    {
     "name": "stdout",
     "output_type": "stream",
     "text": [
      "Starting RL calculation using block_RLDeconv3DReiknaOCL()\n",
      "Completed\n",
      "res2 shape:(256, 256, 256), dtype: float32, max,min: 0.00956675037741661,-0.000715897127520293\n"
     ]
    }
   ],
   "source": [
    "import RedLionfishDeconv.RLDeconv3DReiknaOCL as rlocl\n",
    "print(\"Starting RL calculation using block_RLDeconv3DReiknaOCL()\")\n",
    "res2 = rlocl.block_RLDeconv3DReiknaOCL(data_large,psf_norm,niter=3, max_dim_size = 128)\n",
    "print(\"Completed\")\n",
    "print(f\"res2 shape:{res2.shape}, dtype: {res2.dtype}, max,min: {res2.max()},{res2.min()}\")"
   ]
  },
  {
   "cell_type": "code",
   "execution_count": 20,
   "metadata": {},
   "outputs": [
    {
     "name": "stdout",
     "output_type": "stream",
     "text": [
      "Starting RL calculation using skimage.restoration.richardson_lucy()\n",
      "Completed\n",
      "res_skimage shape:(256, 256, 256), dtype: float64, max,min: 0.002362383784275899,-7.524207186831826e-13\n"
     ]
    }
   ],
   "source": [
    "import skimage.restoration\n",
    "print(\"Starting RL calculation using skimage.restoration.richardson_lucy()\")\n",
    "res_skimage = skimage.restoration.richardson_lucy(data_large,psf_norm, num_iter = 3, clip=False)\n",
    "print(\"Completed\")\n",
    "print(f\"res_skimage shape:{res_skimage.shape}, dtype: {res_skimage.dtype}, max,min: {res_skimage.max()},{res_skimage.min()}\")"
   ]
  },
  {
   "cell_type": "code",
   "execution_count": 53,
   "metadata": {},
   "outputs": [
    {
     "name": "stdout",
     "output_type": "stream",
     "text": [
      "Starting RL calculation using doRLDeconvolution12()\n",
      "Completed\n",
      "res3 shape:(256, 256, 256), dtype: uint8, max,min: 255,0\n"
     ]
    }
   ],
   "source": [
    "print(\"Starting RL calculation using doRLDeconvolution12()\")\n",
    "res3 = rls.doRLDeconvolution12(data_large,psf_norm, niter=3)\n",
    "print(\"Completed\")\n",
    "print(f\"res3 shape:{res3.shape}, dtype: {res3.dtype}, max,min: {res3.max()},{res3.min()}\")"
   ]
  },
  {
   "cell_type": "code",
   "execution_count": 51,
   "metadata": {},
   "outputs": [
    {
     "name": "stdout",
     "output_type": "stream",
     "text": [
      "0.00027373407\n",
      "0.0013149539\n"
     ]
    }
   ],
   "source": [
    "#Maximum difference\n",
    "print(np.max(np.abs(res0-res1)))\n",
    "print(np.max(np.abs(res0-res2)))\n",
    "print(np.max(np.abs(res0-res2)))"
   ]
  },
  {
   "cell_type": "code",
   "execution_count": 27,
   "metadata": {},
   "outputs": [
    {
     "name": "stdout",
     "output_type": "stream",
     "text": [
      "512.0000046125008\n",
      "516.3106\n",
      "516.30084\n",
      "517.5604\n",
      "517.5152769736716\n"
     ]
    }
   ],
   "source": [
    "#Just for curiosity, compare the sum of values before and after convolution\n",
    "print(np.sum(data_large))\n",
    "print(np.sum(res0))\n",
    "print(np.sum(res1))\n",
    "print(np.sum(res2))\n",
    "print(np.sum(res_skimage))"
   ]
  },
  {
   "cell_type": "code",
   "execution_count": 31,
   "metadata": {},
   "outputs": [
    {
     "name": "stdout",
     "output_type": "stream",
     "text": [
      "0.0017753456515616454 -8.283871215872297e-11\n",
      "0.00969651 -0.000105248975\n",
      "0.009698403 -3.860086e-05\n",
      "0.00956675 -0.0007158971\n",
      "0.002362383784275899 -7.524207186831826e-13\n"
     ]
    }
   ],
   "source": [
    "print(np.max(data_large), np.min(data_large))\n",
    "print(np.max(res0), np.min(res0))\n",
    "print(np.max(res1), np.min(res1))\n",
    "print(np.max(res2), np.min(res2))\n",
    "print(np.max(res_skimage), np.min(res_skimage))"
   ]
  },
  {
   "cell_type": "code",
   "execution_count": 32,
   "metadata": {},
   "outputs": [
    {
     "data": {
      "text/plain": [
       "<Image layer 'res_skimage' at 0x18eb03aefa0>"
      ]
     },
     "execution_count": 32,
     "metadata": {},
     "output_type": "execute_result"
    }
   ],
   "source": [
    "contrastlimit0 = [0.0,0.01]\n",
    "NV=napari.Viewer()\n",
    "NV.add_image(data_large, contrast_limits=contrastlimit0)\n",
    "NV.add_image(res0, contrast_limits=contrastlimit0)\n",
    "NV.add_image(res1, contrast_limits=contrastlimit0)\n",
    "NV.add_image(res2, contrast_limits=contrastlimit0)\n",
    "NV.add_image(res_skimage, contrast_limits=contrastlimit0)"
   ]
  },
  {
   "cell_type": "code",
   "execution_count": 50,
   "metadata": {},
   "outputs": [
    {
     "name": "stdout",
     "output_type": "stream",
     "text": [
      "0.00027373407\n",
      "0.0013149539\n",
      "0.0013279477\n",
      "0.007578507633556988\n"
     ]
    }
   ],
   "source": [
    "#Maximum difference\n",
    "print(np.max(np.abs(res1-res0)))\n",
    "print(np.max(np.abs(res2-res0)))\n",
    "print(np.max(np.abs(res2-res1)))\n",
    "print(np.max(np.abs(res_skimage-res0)))"
   ]
  },
  {
   "cell_type": "code",
   "execution_count": 49,
   "metadata": {},
   "outputs": [
    {
     "name": "stdout",
     "output_type": "stream",
     "text": [
      "True\n",
      "True\n",
      "True\n",
      "True\n"
     ]
    }
   ],
   "source": [
    "#Check between each others\n",
    "print(np.allclose(res1,res0, rtol=1e-2, atol=1e-2))\n",
    "print(np.allclose(res2,res0, rtol=1e-2, atol=1e-2))\n",
    "print(np.allclose(res2,res1, rtol=1e-2, atol=1e-2))\n",
    "print(np.allclose(res_skimage,res0, rtol=1e-2, atol=1e-2))"
   ]
  },
  {
   "cell_type": "code",
   "execution_count": null,
   "metadata": {},
   "outputs": [],
   "source": []
  },
  {
   "cell_type": "code",
   "execution_count": null,
   "metadata": {},
   "outputs": [],
   "source": []
  }
 ],
 "metadata": {
  "kernelspec": {
   "display_name": "Python 3.8.13 ('dev')",
   "language": "python",
   "name": "python3"
  },
  "language_info": {
   "codemirror_mode": {
    "name": "ipython",
    "version": 3
   },
   "file_extension": ".py",
   "mimetype": "text/x-python",
   "name": "python",
   "nbconvert_exporter": "python",
   "pygments_lexer": "ipython3",
   "version": "3.11.7"
  },
  "orig_nbformat": 4,
  "vscode": {
   "interpreter": {
    "hash": "ae9318eca6f153166416f971f14e35a175773b3b30438ae2aa8538d9aa021541"
   }
  }
 },
 "nbformat": 4,
 "nbformat_minor": 2
}
