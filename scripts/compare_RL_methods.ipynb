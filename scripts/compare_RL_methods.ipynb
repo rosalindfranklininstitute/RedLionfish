{
 "cells": [
  {
   "cell_type": "code",
   "execution_count": 1,
   "metadata": {},
   "outputs": [],
   "source": [
    "import numpy as np\n",
    "import RedLionfishDeconv.RLDeconv3DScipy as rls\n",
    "import tifffile\n",
    "import os\n",
    "import napari\n",
    "import logging"
   ]
  },
  {
   "cell_type": "code",
   "execution_count": 2,
   "metadata": {},
   "outputs": [],
   "source": [
    "logging.basicConfig(level=logging.INFO)"
   ]
  },
  {
   "cell_type": "code",
   "execution_count": 3,
   "metadata": {},
   "outputs": [],
   "source": [
    "#Path is referenced from notebook location\n",
    "data = tifffile.imread(\"testdata/gendata_psfconv_poiss.tif\")\n",
    "psf = tifffile.imread(\"testdata/PSF_RFI_8bit.tif\")"
   ]
  },
  {
   "cell_type": "code",
   "execution_count": 4,
   "metadata": {},
   "outputs": [
    {
     "data": {
      "text/plain": [
       "(160, 160, 160)"
      ]
     },
     "execution_count": 4,
     "metadata": {},
     "output_type": "execute_result"
    }
   ],
   "source": [
    "data.shape"
   ]
  },
  {
   "cell_type": "code",
   "execution_count": 5,
   "metadata": {},
   "outputs": [
    {
     "data": {
      "text/plain": [
       "1094998"
      ]
     },
     "execution_count": 5,
     "metadata": {},
     "output_type": "execute_result"
    }
   ],
   "source": [
    "psf.sum()"
   ]
  },
  {
   "cell_type": "code",
   "execution_count": 6,
   "metadata": {},
   "outputs": [],
   "source": [
    "psf_f = psf.astype(np.float32)"
   ]
  },
  {
   "cell_type": "code",
   "execution_count": 7,
   "metadata": {},
   "outputs": [],
   "source": [
    "psf_norm = psf_f/psf_f.sum()"
   ]
  },
  {
   "cell_type": "code",
   "execution_count": 8,
   "metadata": {},
   "outputs": [
    {
     "data": {
      "text/plain": [
       "1.0"
      ]
     },
     "execution_count": 8,
     "metadata": {},
     "output_type": "execute_result"
    }
   ],
   "source": [
    "psf_norm.sum()"
   ]
  },
  {
   "cell_type": "code",
   "execution_count": 9,
   "metadata": {},
   "outputs": [
    {
     "name": "stderr",
     "output_type": "stream",
     "text": [
      "INFO:root:doRLDeconvolution_DL2_4() (CPU)\n",
      "INFO:root:change3DSizeTo() , shape:(160, 160, 160)\n"
     ]
    },
    {
     "name": "stdout",
     "output_type": "stream",
     "text": [
      "Starting RL calculation using doRLDeconvolution_DL2_4()\n",
      "Completed\n",
      "res0 shape:(160, 160, 160), dtype: float32, max,min: 1293.83447265625,0.0\n"
     ]
    }
   ],
   "source": [
    "print(\"Starting RL calculation using doRLDeconvolution_DL2_4()\")\n",
    "res0 = rls.doRLDeconvolution_DL2_4(data,psf_norm, niter=3)\n",
    "print(\"Completed\")\n",
    "print(f\"res0 shape:{res0.shape}, dtype: {res0.dtype}, max,min: {res0.max()},{res0.min()}\")"
   ]
  },
  {
   "cell_type": "markdown",
   "metadata": {},
   "source": [
    "OpenCL - default platform (CUDA)"
   ]
  },
  {
   "cell_type": "code",
   "execution_count": 10,
   "metadata": {},
   "outputs": [
    {
     "name": "stderr",
     "output_type": "stream",
     "text": [
      "INFO:root:nonBlock_RLDeconvolutionReiknaOCL(), niter:3, platform_preference:cuda\n"
     ]
    },
    {
     "name": "stdout",
     "output_type": "stream",
     "text": [
      "Starting RL calculation using nonBlock_RLDeconvolutionReiknaOCL()\n"
     ]
    },
    {
     "name": "stderr",
     "output_type": "stream",
     "text": [
      "INFO:root:OCL device selected : <pyopencl.Device 'NVIDIA GeForce GTX 1650 with Max-Q Design' on 'NVIDIA CUDA' at 0x146c325a6b0>\n",
      "INFO:root:Device params max_work_item_sizes: [1024, 1024, 64]\n",
      "INFO:root:setPSF()\n",
      "INFO:root:change3DSizeTo() , shape:(160, 160, 160)\n",
      "INFO:root:doRLDeconvolution()\n",
      "INFO:root:RL completed, result collected\n",
      "INFO:root:Clearing GPU RAM\n"
     ]
    },
    {
     "name": "stdout",
     "output_type": "stream",
     "text": [
      "Completed\n",
      "res1 shape:(160, 160, 160), dtype: float32, max,min: 1293.833984375,0.0\n"
     ]
    }
   ],
   "source": [
    "import RedLionfishDeconv.RLDeconv3DReiknaOCL as rlocl\n",
    "print(\"Starting RL calculation using nonBlock_RLDeconvolutionReiknaOCL()\")\n",
    "res_ocl_cuda = rlocl.nonBlock_RLDeconvolutionReiknaOCL(data,psf_norm, niter=3)\n",
    "print(\"Completed\")\n",
    "print(f\"res1 shape:{res_ocl_cuda.shape}, dtype: {res_ocl_cuda.dtype}, max,min: {res_ocl_cuda.max()},{res_ocl_cuda.min()}\")"
   ]
  },
  {
   "cell_type": "markdown",
   "metadata": {},
   "source": [
    "opencl Intel CPU"
   ]
  },
  {
   "cell_type": "code",
   "execution_count": 11,
   "metadata": {},
   "outputs": [
    {
     "name": "stderr",
     "output_type": "stream",
     "text": [
      "INFO:root:nonBlock_RLDeconvolutionReiknaOCL(), niter:3, platform_preference:intel\n",
      "INFO:root:OCL device selected : <pyopencl.Device 'Intel(R) Iris(R) Xe Graphics' on 'Intel(R) OpenCL HD Graphics' at 0x146c36e1d40>\n",
      "INFO:root:Device params max_work_item_sizes: [512, 512, 512]\n"
     ]
    },
    {
     "name": "stdout",
     "output_type": "stream",
     "text": [
      "Starting RL calculation using nonBlock_RLDeconvolutionReiknaOCL()\n"
     ]
    },
    {
     "name": "stderr",
     "output_type": "stream",
     "text": [
      "INFO:root:setPSF()\n",
      "INFO:root:change3DSizeTo() , shape:(160, 160, 160)\n",
      "INFO:root:doRLDeconvolution()\n",
      "INFO:root:RL completed, result collected\n",
      "INFO:root:Clearing GPU RAM\n"
     ]
    },
    {
     "name": "stdout",
     "output_type": "stream",
     "text": [
      "Completed\n",
      "res1 shape:(160, 160, 160), dtype: float32, max,min: 1293.833984375,0.0\n"
     ]
    }
   ],
   "source": [
    "import RedLionfishDeconv.RLDeconv3DReiknaOCL as rlocl\n",
    "print(\"Starting RL calculation using nonBlock_RLDeconvolutionReiknaOCL()\")\n",
    "rlocl.RL_CL_PLATFORM_PREFERENCE=\"intel\"\n",
    "res_ocl_intel = rlocl.nonBlock_RLDeconvolutionReiknaOCL(data,psf_norm, niter=3)\n",
    "print(\"Completed\")\n",
    "print(f\"res1 shape:{res_ocl_intel.shape}, dtype: {res_ocl_intel.dtype}, max,min: {res_ocl_intel.max()},{res_ocl_intel.min()}\")"
   ]
  },
  {
   "cell_type": "code",
   "execution_count": 12,
   "metadata": {},
   "outputs": [
    {
     "name": "stdout",
     "output_type": "stream",
     "text": [
      "Starting RL calculation using skimage.restoration.richardson_lucy()\n",
      "Completed\n",
      "res_skimage shape:(160, 160, 160), dtype: float64, max,min: 283.66256433703546,-1.7658841937650016e-45\n"
     ]
    }
   ],
   "source": [
    "import skimage.restoration\n",
    "print(\"Starting RL calculation using skimage.restoration.richardson_lucy()\")\n",
    "res_skimage = skimage.restoration.richardson_lucy(data,psf_norm, num_iter = 3, clip=False)\n",
    "print(\"Completed\")\n",
    "print(f\"res_skimage shape:{res_skimage.shape}, dtype: {res_skimage.dtype}, max,min: {res_skimage.max()},{res_skimage.min()}\")"
   ]
  },
  {
   "cell_type": "markdown",
   "metadata": {},
   "source": [
    "Strangely they give different results in intensity, so maybe not a good way to test RL code"
   ]
  },
  {
   "cell_type": "code",
   "execution_count": 13,
   "metadata": {},
   "outputs": [
    {
     "name": "stderr",
     "output_type": "stream",
     "text": [
      "INFO:numexpr.utils:NumExpr defaulting to 8 threads.\n"
     ]
    },
    {
     "name": "stdout",
     "output_type": "stream",
     "text": [
      "Assistant skips harvesting pyclesperanto as it's not installed.\n"
     ]
    },
    {
     "data": {
      "text/plain": [
       "<Image layer 'res_skimage' at 0x146dfb84dd0>"
      ]
     },
     "execution_count": 13,
     "metadata": {},
     "output_type": "execute_result"
    }
   ],
   "source": [
    "NV=napari.Viewer()\n",
    "NV.add_image(res0)\n",
    "NV.add_image(res_ocl_cuda)\n",
    "NV.add_image(res_skimage)"
   ]
  },
  {
   "cell_type": "markdown",
   "metadata": {},
   "source": [
    "# Compare outputs"
   ]
  },
  {
   "cell_type": "code",
   "execution_count": 14,
   "metadata": {},
   "outputs": [
    {
     "data": {
      "text/plain": [
       "True"
      ]
     },
     "execution_count": 14,
     "metadata": {},
     "output_type": "execute_result"
    }
   ],
   "source": [
    "# absolute(a - b) <= (atol + rtol * absolute(b))\n",
    "\n",
    "#np.allclose(res0,res1,rtol=1e-5, atol=1e-30)\n",
    "#np.allclose(res0,res1,atol=1e-30)\n",
    "np.allclose(res0,res_ocl_cuda) #Use defaule rtol and atol "
   ]
  },
  {
   "cell_type": "code",
   "execution_count": 15,
   "metadata": {},
   "outputs": [
    {
     "data": {
      "text/plain": [
       "True"
      ]
     },
     "execution_count": 15,
     "metadata": {},
     "output_type": "execute_result"
    }
   ],
   "source": [
    "np.allclose(res0,res_ocl_intel) #Use defaule rtol and atol "
   ]
  },
  {
   "cell_type": "code",
   "execution_count": 16,
   "metadata": {},
   "outputs": [
    {
     "data": {
      "text/plain": [
       "True"
      ]
     },
     "execution_count": 16,
     "metadata": {},
     "output_type": "execute_result"
    }
   ],
   "source": [
    "np.allclose(res_ocl_cuda,res_ocl_intel) #Use defaule rtol and atol"
   ]
  },
  {
   "cell_type": "markdown",
   "metadata": {},
   "source": [
    "Some diffeerences but it is small"
   ]
  },
  {
   "cell_type": "code",
   "execution_count": 17,
   "metadata": {},
   "outputs": [
    {
     "data": {
      "text/plain": [
       "0.00091552734"
      ]
     },
     "execution_count": 17,
     "metadata": {},
     "output_type": "execute_result"
    }
   ],
   "source": [
    "#Maximum difference\n",
    "np.max(np.abs(res0-res_ocl_cuda))"
   ]
  },
  {
   "cell_type": "code",
   "execution_count": 18,
   "metadata": {},
   "outputs": [
    {
     "data": {
      "text/plain": [
       "1035.6353393268591"
      ]
     },
     "execution_count": 18,
     "metadata": {},
     "output_type": "execute_result"
    }
   ],
   "source": [
    "#Maximum difference\n",
    "np.max(np.abs(res0-res_skimage))"
   ]
  },
  {
   "cell_type": "code",
   "execution_count": 19,
   "metadata": {},
   "outputs": [
    {
     "name": "stdout",
     "output_type": "stream",
     "text": [
      "18409407\n",
      "18559448.0\n",
      "18559448.0\n",
      "18626902.969301894\n"
     ]
    }
   ],
   "source": [
    "#Just for curiosity, compare the sum of values before and after convolution\n",
    "print(np.sum(data))\n",
    "print(np.sum(res0))\n",
    "print(np.sum(res_ocl_cuda))\n",
    "print(np.sum(res_skimage))"
   ]
  },
  {
   "cell_type": "markdown",
   "metadata": {},
   "source": [
    "## Large(r) data"
   ]
  },
  {
   "cell_type": "code",
   "execution_count": 20,
   "metadata": {},
   "outputs": [
    {
     "name": "stdout",
     "output_type": "stream",
     "text": [
      "(256, 256, 256)\n"
     ]
    }
   ],
   "source": [
    "#Generate 256x256x256 data for testing\n",
    "#Create a 2d array to do FFT\n",
    "ashape = (256,256,256)\n",
    "\n",
    "a = np.zeros(ashape, dtype=np.float32)\n",
    "\n",
    "#Add a few cubes in grid-like locations\n",
    "cubesize=2\n",
    "cubespacing=60\n",
    "for iz in range(int(cubespacing/2),ashape[0],cubespacing):\n",
    "    for iy in range(int(cubespacing/2),ashape[1],cubespacing):\n",
    "        for ix in range(int(cubespacing/2),ashape[2],cubespacing):\n",
    "            a[iz:iz+cubesize , iy:iy+cubesize , ix:ix+cubesize] = np.ones((cubesize,cubesize,cubesize))\n",
    "\n",
    "#Convolute with experimental PSF\n",
    "psf = tifffile.imread(\"testdata/PSF_RFI_8bit.tif\")\n",
    "psf_f = psf.astype(np.float32)\n",
    "psf_norm = psf_f/ np.sum(psf_f)\n",
    "assert np.sum(psf_norm)==1.0\n",
    "\n",
    "import scipy.signal\n",
    "data_large = scipy.signal.convolve(a, psf_norm, mode='same')\n",
    "print(data_large.shape)"
   ]
  },
  {
   "cell_type": "code",
   "execution_count": 21,
   "metadata": {},
   "outputs": [
    {
     "name": "stderr",
     "output_type": "stream",
     "text": [
      "INFO:root:doRLDeconvolution_DL2_4() (CPU)\n",
      "INFO:root:change3DSizeTo() , shape:(256, 256, 256)\n"
     ]
    },
    {
     "name": "stdout",
     "output_type": "stream",
     "text": [
      "Starting RL calculation using doRLDeconvolution_DL2_4()\n",
      "Completed\n",
      "res0 shape:(256, 256, 256), dtype: float32, max,min: 0.009700462222099304,-8.700173566467129e-06\n"
     ]
    }
   ],
   "source": [
    "print(\"Starting RL calculation using doRLDeconvolution_DL2_4()\")\n",
    "res0 = rls.doRLDeconvolution_DL2_4(data_large,psf_norm, niter=3)\n",
    "print(\"Completed\")\n",
    "print(f\"res0 shape:{res0.shape}, dtype: {res0.dtype}, max,min: {res0.max()},{res0.min()}\")"
   ]
  },
  {
   "cell_type": "code",
   "execution_count": 22,
   "metadata": {},
   "outputs": [
    {
     "name": "stderr",
     "output_type": "stream",
     "text": [
      "INFO:root:nonBlock_RLDeconvolutionReiknaOCL(), niter:3, platform_preference:intel\n",
      "INFO:root:OCL device selected : <pyopencl.Device 'Intel(R) Iris(R) Xe Graphics' on 'Intel(R) OpenCL HD Graphics' at 0x146c36e1d40>\n",
      "INFO:root:Device params max_work_item_sizes: [512, 512, 512]\n"
     ]
    },
    {
     "name": "stdout",
     "output_type": "stream",
     "text": [
      "Starting RL calculation using nonBlock_RLDeconvolutionReiknaOCL()\n"
     ]
    },
    {
     "name": "stderr",
     "output_type": "stream",
     "text": [
      "INFO:root:setPSF()\n",
      "INFO:root:change3DSizeTo() , shape:(256, 256, 256)\n",
      "INFO:root:doRLDeconvolution()\n",
      "INFO:root:RL completed, result collected\n",
      "INFO:root:Clearing GPU RAM\n"
     ]
    },
    {
     "name": "stdout",
     "output_type": "stream",
     "text": [
      "Completed\n",
      "res1 shape:(256, 256, 256), dtype: float32, max,min: 0.009696180000901222,0.0\n"
     ]
    }
   ],
   "source": [
    "import RedLionfishDeconv.RLDeconv3DReiknaOCL as rlocl\n",
    "print(\"Starting RL calculation using nonBlock_RLDeconvolutionReiknaOCL()\")\n",
    "res_ocl_cuda = rlocl.nonBlock_RLDeconvolutionReiknaOCL(data_large,psf_norm, niter=3)\n",
    "print(\"Completed\")\n",
    "print(f\"res1 shape:{res_ocl_cuda.shape}, dtype: {res_ocl_cuda.dtype}, max,min: {res_ocl_cuda.max()},{res_ocl_cuda.min()}\")"
   ]
  },
  {
   "cell_type": "code",
   "execution_count": 23,
   "metadata": {},
   "outputs": [
    {
     "name": "stderr",
     "output_type": "stream",
     "text": [
      "INFO:root:block_RLDeconv3DReiknaOCL() , data.shape:(256, 256, 256), psfdata.shape:(61, 32, 32), max_dim_size:128, psfpaddingfract:1.2\n",
      "INFO:root:data shape: (256, 256, 256) , psf shape: (61, 32, 32)\n",
      "INFO:root:blockshape: [128, 128, 128]\n",
      "INFO:root:blockstep: [54, 89, 89]\n",
      "INFO:root:OCL device selected : <pyopencl.Device 'Intel(R) Iris(R) Xe Graphics' on 'Intel(R) OpenCL HD Graphics' at 0x146c36e1d40>\n"
     ]
    },
    {
     "name": "stdout",
     "output_type": "stream",
     "text": [
      "Starting RL calculation using block_RLDeconv3DReiknaOCL()\n"
     ]
    },
    {
     "name": "stderr",
     "output_type": "stream",
     "text": [
      "INFO:root:Device params max_work_item_sizes: [512, 512, 512]\n",
      "INFO:root:setPSF()\n",
      "INFO:root:change3DSizeTo() , shape:[128, 128, 128]\n",
      "INFO:root:Beggining block-by-block iterations.\n",
      "INFO:root:New block, intended origin iz0,iy0,ix0 = 0,0,0 , use origin iz00,iy00,ix00 = 0,0,0 , end iz1,iy1,ix1 = 128,128,128\n",
      "INFO:root:Start RL deconvolution of this block\n",
      "INFO:root:doRLDeconvolution()\n",
      "INFO:root:RL completed, result collected\n",
      "INFO:root:Clearing GPU RAM\n",
      "INFO:root:This block's RL deconvolution completed\n",
      "INFO:root:Crop block result from origin jz0,jy0,jx0 = : 0,0,0\n",
      "INFO:root:Copying cropped block to datares\n",
      "INFO:root:New block, intended origin iz0,iy0,ix0 = 0,0,89 , use origin iz00,iy00,ix00 = 0,0,89 , end iz1,iy1,ix1 = 128,128,217\n",
      "INFO:root:Start RL deconvolution of this block\n",
      "INFO:root:doRLDeconvolution()\n",
      "INFO:root:RL completed, result collected\n",
      "INFO:root:Clearing GPU RAM\n",
      "INFO:root:This block's RL deconvolution completed\n",
      "INFO:root:Crop block result from origin jz0,jy0,jx0 = : 0,0,19\n",
      "INFO:root:Copying cropped block to datares\n",
      "INFO:root:New block, intended origin iz0,iy0,ix0 = 0,0,178 , use origin iz00,iy00,ix00 = 0,0,128 , end iz1,iy1,ix1 = 128,128,256\n",
      "INFO:root:Start RL deconvolution of this block\n",
      "INFO:root:doRLDeconvolution()\n",
      "INFO:root:RL completed, result collected\n",
      "INFO:root:Clearing GPU RAM\n",
      "INFO:root:This block's RL deconvolution completed\n",
      "INFO:root:Crop block result from origin jz0,jy0,jx0 = : 0,0,19\n",
      "INFO:root:Copying cropped block to datares\n",
      "INFO:root:New block, intended origin iz0,iy0,ix0 = 0,89,0 , use origin iz00,iy00,ix00 = 0,89,0 , end iz1,iy1,ix1 = 128,217,128\n",
      "INFO:root:Start RL deconvolution of this block\n",
      "INFO:root:doRLDeconvolution()\n",
      "INFO:root:RL completed, result collected\n",
      "INFO:root:Clearing GPU RAM\n",
      "INFO:root:This block's RL deconvolution completed\n",
      "INFO:root:Crop block result from origin jz0,jy0,jx0 = : 0,19,0\n",
      "INFO:root:Copying cropped block to datares\n",
      "INFO:root:New block, intended origin iz0,iy0,ix0 = 0,89,89 , use origin iz00,iy00,ix00 = 0,89,89 , end iz1,iy1,ix1 = 128,217,217\n",
      "INFO:root:Start RL deconvolution of this block\n",
      "INFO:root:doRLDeconvolution()\n",
      "INFO:root:RL completed, result collected\n",
      "INFO:root:Clearing GPU RAM\n",
      "INFO:root:This block's RL deconvolution completed\n",
      "INFO:root:Crop block result from origin jz0,jy0,jx0 = : 0,19,19\n",
      "INFO:root:Copying cropped block to datares\n",
      "INFO:root:New block, intended origin iz0,iy0,ix0 = 0,89,178 , use origin iz00,iy00,ix00 = 0,89,128 , end iz1,iy1,ix1 = 128,217,256\n",
      "INFO:root:Start RL deconvolution of this block\n",
      "INFO:root:doRLDeconvolution()\n",
      "INFO:root:RL completed, result collected\n",
      "INFO:root:Clearing GPU RAM\n",
      "INFO:root:This block's RL deconvolution completed\n",
      "INFO:root:Crop block result from origin jz0,jy0,jx0 = : 0,19,19\n",
      "INFO:root:Copying cropped block to datares\n",
      "INFO:root:New block, intended origin iz0,iy0,ix0 = 0,178,0 , use origin iz00,iy00,ix00 = 0,128,0 , end iz1,iy1,ix1 = 128,256,128\n",
      "INFO:root:Start RL deconvolution of this block\n",
      "INFO:root:doRLDeconvolution()\n",
      "INFO:root:RL completed, result collected\n",
      "INFO:root:Clearing GPU RAM\n",
      "INFO:root:This block's RL deconvolution completed\n",
      "INFO:root:Crop block result from origin jz0,jy0,jx0 = : 0,19,0\n",
      "INFO:root:Copying cropped block to datares\n",
      "INFO:root:New block, intended origin iz0,iy0,ix0 = 0,178,89 , use origin iz00,iy00,ix00 = 0,128,89 , end iz1,iy1,ix1 = 128,256,217\n",
      "INFO:root:Start RL deconvolution of this block\n",
      "INFO:root:doRLDeconvolution()\n",
      "INFO:root:RL completed, result collected\n",
      "INFO:root:Clearing GPU RAM\n",
      "INFO:root:This block's RL deconvolution completed\n",
      "INFO:root:Crop block result from origin jz0,jy0,jx0 = : 0,19,19\n",
      "INFO:root:Copying cropped block to datares\n",
      "INFO:root:New block, intended origin iz0,iy0,ix0 = 0,178,178 , use origin iz00,iy00,ix00 = 0,128,128 , end iz1,iy1,ix1 = 128,256,256\n",
      "INFO:root:Start RL deconvolution of this block\n",
      "INFO:root:doRLDeconvolution()\n",
      "INFO:root:RL completed, result collected\n",
      "INFO:root:Clearing GPU RAM\n",
      "INFO:root:This block's RL deconvolution completed\n",
      "INFO:root:Crop block result from origin jz0,jy0,jx0 = : 0,19,19\n",
      "INFO:root:Copying cropped block to datares\n",
      "INFO:root:New block, intended origin iz0,iy0,ix0 = 54,0,0 , use origin iz00,iy00,ix00 = 54,0,0 , end iz1,iy1,ix1 = 182,128,128\n",
      "INFO:root:Start RL deconvolution of this block\n",
      "INFO:root:doRLDeconvolution()\n",
      "INFO:root:RL completed, result collected\n",
      "INFO:root:Clearing GPU RAM\n",
      "INFO:root:This block's RL deconvolution completed\n",
      "INFO:root:Crop block result from origin jz0,jy0,jx0 = : 37,0,0\n",
      "INFO:root:Copying cropped block to datares\n",
      "INFO:root:New block, intended origin iz0,iy0,ix0 = 54,0,89 , use origin iz00,iy00,ix00 = 54,0,89 , end iz1,iy1,ix1 = 182,128,217\n",
      "INFO:root:Start RL deconvolution of this block\n",
      "INFO:root:doRLDeconvolution()\n",
      "INFO:root:RL completed, result collected\n",
      "INFO:root:Clearing GPU RAM\n",
      "INFO:root:This block's RL deconvolution completed\n",
      "INFO:root:Crop block result from origin jz0,jy0,jx0 = : 37,0,19\n",
      "INFO:root:Copying cropped block to datares\n",
      "INFO:root:New block, intended origin iz0,iy0,ix0 = 54,0,178 , use origin iz00,iy00,ix00 = 54,0,128 , end iz1,iy1,ix1 = 182,128,256\n",
      "INFO:root:Start RL deconvolution of this block\n",
      "INFO:root:doRLDeconvolution()\n",
      "INFO:root:RL completed, result collected\n",
      "INFO:root:Clearing GPU RAM\n",
      "INFO:root:This block's RL deconvolution completed\n",
      "INFO:root:Crop block result from origin jz0,jy0,jx0 = : 37,0,19\n",
      "INFO:root:Copying cropped block to datares\n",
      "INFO:root:New block, intended origin iz0,iy0,ix0 = 54,89,0 , use origin iz00,iy00,ix00 = 54,89,0 , end iz1,iy1,ix1 = 182,217,128\n",
      "INFO:root:Start RL deconvolution of this block\n",
      "INFO:root:doRLDeconvolution()\n",
      "INFO:root:RL completed, result collected\n",
      "INFO:root:Clearing GPU RAM\n",
      "INFO:root:This block's RL deconvolution completed\n",
      "INFO:root:Crop block result from origin jz0,jy0,jx0 = : 37,19,0\n",
      "INFO:root:Copying cropped block to datares\n",
      "INFO:root:New block, intended origin iz0,iy0,ix0 = 54,89,89 , use origin iz00,iy00,ix00 = 54,89,89 , end iz1,iy1,ix1 = 182,217,217\n",
      "INFO:root:Start RL deconvolution of this block\n",
      "INFO:root:doRLDeconvolution()\n",
      "INFO:root:RL completed, result collected\n",
      "INFO:root:Clearing GPU RAM\n",
      "INFO:root:This block's RL deconvolution completed\n",
      "INFO:root:Crop block result from origin jz0,jy0,jx0 = : 37,19,19\n",
      "INFO:root:Copying cropped block to datares\n",
      "INFO:root:New block, intended origin iz0,iy0,ix0 = 54,89,178 , use origin iz00,iy00,ix00 = 54,89,128 , end iz1,iy1,ix1 = 182,217,256\n",
      "INFO:root:Start RL deconvolution of this block\n",
      "INFO:root:doRLDeconvolution()\n",
      "INFO:root:RL completed, result collected\n",
      "INFO:root:Clearing GPU RAM\n",
      "INFO:root:This block's RL deconvolution completed\n",
      "INFO:root:Crop block result from origin jz0,jy0,jx0 = : 37,19,19\n",
      "INFO:root:Copying cropped block to datares\n",
      "INFO:root:New block, intended origin iz0,iy0,ix0 = 54,178,0 , use origin iz00,iy00,ix00 = 54,128,0 , end iz1,iy1,ix1 = 182,256,128\n",
      "INFO:root:Start RL deconvolution of this block\n",
      "INFO:root:doRLDeconvolution()\n",
      "INFO:root:RL completed, result collected\n",
      "INFO:root:Clearing GPU RAM\n",
      "INFO:root:This block's RL deconvolution completed\n",
      "INFO:root:Crop block result from origin jz0,jy0,jx0 = : 37,19,0\n",
      "INFO:root:Copying cropped block to datares\n",
      "INFO:root:New block, intended origin iz0,iy0,ix0 = 54,178,89 , use origin iz00,iy00,ix00 = 54,128,89 , end iz1,iy1,ix1 = 182,256,217\n",
      "INFO:root:Start RL deconvolution of this block\n",
      "INFO:root:doRLDeconvolution()\n",
      "INFO:root:RL completed, result collected\n",
      "INFO:root:Clearing GPU RAM\n",
      "INFO:root:This block's RL deconvolution completed\n",
      "INFO:root:Crop block result from origin jz0,jy0,jx0 = : 37,19,19\n",
      "INFO:root:Copying cropped block to datares\n",
      "INFO:root:New block, intended origin iz0,iy0,ix0 = 54,178,178 , use origin iz00,iy00,ix00 = 54,128,128 , end iz1,iy1,ix1 = 182,256,256\n",
      "INFO:root:Start RL deconvolution of this block\n",
      "INFO:root:doRLDeconvolution()\n",
      "INFO:root:RL completed, result collected\n",
      "INFO:root:Clearing GPU RAM\n",
      "INFO:root:This block's RL deconvolution completed\n",
      "INFO:root:Crop block result from origin jz0,jy0,jx0 = : 37,19,19\n",
      "INFO:root:Copying cropped block to datares\n",
      "INFO:root:New block, intended origin iz0,iy0,ix0 = 108,0,0 , use origin iz00,iy00,ix00 = 108,0,0 , end iz1,iy1,ix1 = 236,128,128\n",
      "INFO:root:Start RL deconvolution of this block\n",
      "INFO:root:doRLDeconvolution()\n",
      "INFO:root:RL completed, result collected\n",
      "INFO:root:Clearing GPU RAM\n",
      "INFO:root:This block's RL deconvolution completed\n",
      "INFO:root:Crop block result from origin jz0,jy0,jx0 = : 37,0,0\n",
      "INFO:root:Copying cropped block to datares\n",
      "INFO:root:New block, intended origin iz0,iy0,ix0 = 108,0,89 , use origin iz00,iy00,ix00 = 108,0,89 , end iz1,iy1,ix1 = 236,128,217\n",
      "INFO:root:Start RL deconvolution of this block\n",
      "INFO:root:doRLDeconvolution()\n",
      "INFO:root:RL completed, result collected\n",
      "INFO:root:Clearing GPU RAM\n",
      "INFO:root:This block's RL deconvolution completed\n",
      "INFO:root:Crop block result from origin jz0,jy0,jx0 = : 37,0,19\n",
      "INFO:root:Copying cropped block to datares\n",
      "INFO:root:New block, intended origin iz0,iy0,ix0 = 108,0,178 , use origin iz00,iy00,ix00 = 108,0,128 , end iz1,iy1,ix1 = 236,128,256\n",
      "INFO:root:Start RL deconvolution of this block\n",
      "INFO:root:doRLDeconvolution()\n",
      "INFO:root:RL completed, result collected\n",
      "INFO:root:Clearing GPU RAM\n",
      "INFO:root:This block's RL deconvolution completed\n",
      "INFO:root:Crop block result from origin jz0,jy0,jx0 = : 37,0,19\n",
      "INFO:root:Copying cropped block to datares\n",
      "INFO:root:New block, intended origin iz0,iy0,ix0 = 108,89,0 , use origin iz00,iy00,ix00 = 108,89,0 , end iz1,iy1,ix1 = 236,217,128\n",
      "INFO:root:Start RL deconvolution of this block\n",
      "INFO:root:doRLDeconvolution()\n",
      "INFO:root:RL completed, result collected\n",
      "INFO:root:Clearing GPU RAM\n",
      "INFO:root:This block's RL deconvolution completed\n",
      "INFO:root:Crop block result from origin jz0,jy0,jx0 = : 37,19,0\n",
      "INFO:root:Copying cropped block to datares\n",
      "INFO:root:New block, intended origin iz0,iy0,ix0 = 108,89,89 , use origin iz00,iy00,ix00 = 108,89,89 , end iz1,iy1,ix1 = 236,217,217\n",
      "INFO:root:Start RL deconvolution of this block\n",
      "INFO:root:doRLDeconvolution()\n",
      "INFO:root:RL completed, result collected\n",
      "INFO:root:Clearing GPU RAM\n",
      "INFO:root:This block's RL deconvolution completed\n",
      "INFO:root:Crop block result from origin jz0,jy0,jx0 = : 37,19,19\n",
      "INFO:root:Copying cropped block to datares\n",
      "INFO:root:New block, intended origin iz0,iy0,ix0 = 108,89,178 , use origin iz00,iy00,ix00 = 108,89,128 , end iz1,iy1,ix1 = 236,217,256\n",
      "INFO:root:Start RL deconvolution of this block\n",
      "INFO:root:doRLDeconvolution()\n",
      "INFO:root:RL completed, result collected\n",
      "INFO:root:Clearing GPU RAM\n",
      "INFO:root:This block's RL deconvolution completed\n",
      "INFO:root:Crop block result from origin jz0,jy0,jx0 = : 37,19,19\n",
      "INFO:root:Copying cropped block to datares\n",
      "INFO:root:New block, intended origin iz0,iy0,ix0 = 108,178,0 , use origin iz00,iy00,ix00 = 108,128,0 , end iz1,iy1,ix1 = 236,256,128\n",
      "INFO:root:Start RL deconvolution of this block\n",
      "INFO:root:doRLDeconvolution()\n",
      "INFO:root:RL completed, result collected\n",
      "INFO:root:Clearing GPU RAM\n",
      "INFO:root:This block's RL deconvolution completed\n",
      "INFO:root:Crop block result from origin jz0,jy0,jx0 = : 37,19,0\n",
      "INFO:root:Copying cropped block to datares\n",
      "INFO:root:New block, intended origin iz0,iy0,ix0 = 108,178,89 , use origin iz00,iy00,ix00 = 108,128,89 , end iz1,iy1,ix1 = 236,256,217\n",
      "INFO:root:Start RL deconvolution of this block\n",
      "INFO:root:doRLDeconvolution()\n",
      "INFO:root:RL completed, result collected\n",
      "INFO:root:Clearing GPU RAM\n",
      "INFO:root:This block's RL deconvolution completed\n",
      "INFO:root:Crop block result from origin jz0,jy0,jx0 = : 37,19,19\n",
      "INFO:root:Copying cropped block to datares\n",
      "INFO:root:New block, intended origin iz0,iy0,ix0 = 108,178,178 , use origin iz00,iy00,ix00 = 108,128,128 , end iz1,iy1,ix1 = 236,256,256\n",
      "INFO:root:Start RL deconvolution of this block\n",
      "INFO:root:doRLDeconvolution()\n",
      "INFO:root:RL completed, result collected\n",
      "INFO:root:Clearing GPU RAM\n",
      "INFO:root:This block's RL deconvolution completed\n",
      "INFO:root:Crop block result from origin jz0,jy0,jx0 = : 37,19,19\n",
      "INFO:root:Copying cropped block to datares\n",
      "INFO:root:New block, intended origin iz0,iy0,ix0 = 162,0,0 , use origin iz00,iy00,ix00 = 128,0,0 , end iz1,iy1,ix1 = 256,128,128\n",
      "INFO:root:Start RL deconvolution of this block\n",
      "INFO:root:doRLDeconvolution()\n",
      "INFO:root:RL completed, result collected\n",
      "INFO:root:Clearing GPU RAM\n",
      "INFO:root:This block's RL deconvolution completed\n",
      "INFO:root:Crop block result from origin jz0,jy0,jx0 = : 37,0,0\n",
      "INFO:root:Copying cropped block to datares\n",
      "INFO:root:New block, intended origin iz0,iy0,ix0 = 162,0,89 , use origin iz00,iy00,ix00 = 128,0,89 , end iz1,iy1,ix1 = 256,128,217\n",
      "INFO:root:Start RL deconvolution of this block\n",
      "INFO:root:doRLDeconvolution()\n",
      "INFO:root:RL completed, result collected\n",
      "INFO:root:Clearing GPU RAM\n",
      "INFO:root:This block's RL deconvolution completed\n",
      "INFO:root:Crop block result from origin jz0,jy0,jx0 = : 37,0,19\n",
      "INFO:root:Copying cropped block to datares\n",
      "INFO:root:New block, intended origin iz0,iy0,ix0 = 162,0,178 , use origin iz00,iy00,ix00 = 128,0,128 , end iz1,iy1,ix1 = 256,128,256\n",
      "INFO:root:Start RL deconvolution of this block\n",
      "INFO:root:doRLDeconvolution()\n",
      "INFO:root:RL completed, result collected\n",
      "INFO:root:Clearing GPU RAM\n",
      "INFO:root:This block's RL deconvolution completed\n",
      "INFO:root:Crop block result from origin jz0,jy0,jx0 = : 37,0,19\n",
      "INFO:root:Copying cropped block to datares\n",
      "INFO:root:New block, intended origin iz0,iy0,ix0 = 162,89,0 , use origin iz00,iy00,ix00 = 128,89,0 , end iz1,iy1,ix1 = 256,217,128\n",
      "INFO:root:Start RL deconvolution of this block\n",
      "INFO:root:doRLDeconvolution()\n",
      "INFO:root:RL completed, result collected\n",
      "INFO:root:Clearing GPU RAM\n",
      "INFO:root:This block's RL deconvolution completed\n",
      "INFO:root:Crop block result from origin jz0,jy0,jx0 = : 37,19,0\n",
      "INFO:root:Copying cropped block to datares\n",
      "INFO:root:New block, intended origin iz0,iy0,ix0 = 162,89,89 , use origin iz00,iy00,ix00 = 128,89,89 , end iz1,iy1,ix1 = 256,217,217\n",
      "INFO:root:Start RL deconvolution of this block\n",
      "INFO:root:doRLDeconvolution()\n",
      "INFO:root:RL completed, result collected\n",
      "INFO:root:Clearing GPU RAM\n",
      "INFO:root:This block's RL deconvolution completed\n",
      "INFO:root:Crop block result from origin jz0,jy0,jx0 = : 37,19,19\n",
      "INFO:root:Copying cropped block to datares\n",
      "INFO:root:New block, intended origin iz0,iy0,ix0 = 162,89,178 , use origin iz00,iy00,ix00 = 128,89,128 , end iz1,iy1,ix1 = 256,217,256\n",
      "INFO:root:Start RL deconvolution of this block\n",
      "INFO:root:doRLDeconvolution()\n",
      "INFO:root:RL completed, result collected\n",
      "INFO:root:Clearing GPU RAM\n",
      "INFO:root:This block's RL deconvolution completed\n",
      "INFO:root:Crop block result from origin jz0,jy0,jx0 = : 37,19,19\n",
      "INFO:root:Copying cropped block to datares\n",
      "INFO:root:New block, intended origin iz0,iy0,ix0 = 162,178,0 , use origin iz00,iy00,ix00 = 128,128,0 , end iz1,iy1,ix1 = 256,256,128\n",
      "INFO:root:Start RL deconvolution of this block\n",
      "INFO:root:doRLDeconvolution()\n",
      "INFO:root:RL completed, result collected\n",
      "INFO:root:Clearing GPU RAM\n",
      "INFO:root:This block's RL deconvolution completed\n",
      "INFO:root:Crop block result from origin jz0,jy0,jx0 = : 37,19,0\n",
      "INFO:root:Copying cropped block to datares\n",
      "INFO:root:New block, intended origin iz0,iy0,ix0 = 162,178,89 , use origin iz00,iy00,ix00 = 128,128,89 , end iz1,iy1,ix1 = 256,256,217\n",
      "INFO:root:Start RL deconvolution of this block\n",
      "INFO:root:doRLDeconvolution()\n",
      "INFO:root:RL completed, result collected\n",
      "INFO:root:Clearing GPU RAM\n",
      "INFO:root:This block's RL deconvolution completed\n",
      "INFO:root:Crop block result from origin jz0,jy0,jx0 = : 37,19,19\n",
      "INFO:root:Copying cropped block to datares\n",
      "INFO:root:New block, intended origin iz0,iy0,ix0 = 162,178,178 , use origin iz00,iy00,ix00 = 128,128,128 , end iz1,iy1,ix1 = 256,256,256\n",
      "INFO:root:Start RL deconvolution of this block\n",
      "INFO:root:doRLDeconvolution()\n",
      "INFO:root:RL completed, result collected\n",
      "INFO:root:Clearing GPU RAM\n",
      "INFO:root:This block's RL deconvolution completed\n",
      "INFO:root:Crop block result from origin jz0,jy0,jx0 = : 37,19,19\n",
      "INFO:root:Copying cropped block to datares\n",
      "INFO:root:New block, intended origin iz0,iy0,ix0 = 216,0,0 , use origin iz00,iy00,ix00 = 128,0,0 , end iz1,iy1,ix1 = 256,128,128\n",
      "INFO:root:Start RL deconvolution of this block\n",
      "INFO:root:doRLDeconvolution()\n",
      "INFO:root:RL completed, result collected\n",
      "INFO:root:Clearing GPU RAM\n",
      "INFO:root:This block's RL deconvolution completed\n",
      "INFO:root:Crop block result from origin jz0,jy0,jx0 = : 37,0,0\n",
      "INFO:root:Copying cropped block to datares\n",
      "INFO:root:New block, intended origin iz0,iy0,ix0 = 216,0,89 , use origin iz00,iy00,ix00 = 128,0,89 , end iz1,iy1,ix1 = 256,128,217\n",
      "INFO:root:Start RL deconvolution of this block\n",
      "INFO:root:doRLDeconvolution()\n",
      "INFO:root:RL completed, result collected\n",
      "INFO:root:Clearing GPU RAM\n",
      "INFO:root:This block's RL deconvolution completed\n",
      "INFO:root:Crop block result from origin jz0,jy0,jx0 = : 37,0,19\n",
      "INFO:root:Copying cropped block to datares\n",
      "INFO:root:New block, intended origin iz0,iy0,ix0 = 216,0,178 , use origin iz00,iy00,ix00 = 128,0,128 , end iz1,iy1,ix1 = 256,128,256\n",
      "INFO:root:Start RL deconvolution of this block\n",
      "INFO:root:doRLDeconvolution()\n",
      "INFO:root:RL completed, result collected\n",
      "INFO:root:Clearing GPU RAM\n",
      "INFO:root:This block's RL deconvolution completed\n",
      "INFO:root:Crop block result from origin jz0,jy0,jx0 = : 37,0,19\n",
      "INFO:root:Copying cropped block to datares\n",
      "INFO:root:New block, intended origin iz0,iy0,ix0 = 216,89,0 , use origin iz00,iy00,ix00 = 128,89,0 , end iz1,iy1,ix1 = 256,217,128\n",
      "INFO:root:Start RL deconvolution of this block\n",
      "INFO:root:doRLDeconvolution()\n",
      "INFO:root:RL completed, result collected\n",
      "INFO:root:Clearing GPU RAM\n",
      "INFO:root:This block's RL deconvolution completed\n",
      "INFO:root:Crop block result from origin jz0,jy0,jx0 = : 37,19,0\n",
      "INFO:root:Copying cropped block to datares\n",
      "INFO:root:New block, intended origin iz0,iy0,ix0 = 216,89,89 , use origin iz00,iy00,ix00 = 128,89,89 , end iz1,iy1,ix1 = 256,217,217\n",
      "INFO:root:Start RL deconvolution of this block\n",
      "INFO:root:doRLDeconvolution()\n",
      "INFO:root:RL completed, result collected\n",
      "INFO:root:Clearing GPU RAM\n",
      "INFO:root:This block's RL deconvolution completed\n",
      "INFO:root:Crop block result from origin jz0,jy0,jx0 = : 37,19,19\n",
      "INFO:root:Copying cropped block to datares\n",
      "INFO:root:New block, intended origin iz0,iy0,ix0 = 216,89,178 , use origin iz00,iy00,ix00 = 128,89,128 , end iz1,iy1,ix1 = 256,217,256\n",
      "INFO:root:Start RL deconvolution of this block\n",
      "INFO:root:doRLDeconvolution()\n",
      "INFO:root:RL completed, result collected\n",
      "INFO:root:Clearing GPU RAM\n",
      "INFO:root:This block's RL deconvolution completed\n",
      "INFO:root:Crop block result from origin jz0,jy0,jx0 = : 37,19,19\n",
      "INFO:root:Copying cropped block to datares\n",
      "INFO:root:New block, intended origin iz0,iy0,ix0 = 216,178,0 , use origin iz00,iy00,ix00 = 128,128,0 , end iz1,iy1,ix1 = 256,256,128\n",
      "INFO:root:Start RL deconvolution of this block\n",
      "INFO:root:doRLDeconvolution()\n",
      "INFO:root:RL completed, result collected\n",
      "INFO:root:Clearing GPU RAM\n",
      "INFO:root:This block's RL deconvolution completed\n",
      "INFO:root:Crop block result from origin jz0,jy0,jx0 = : 37,19,0\n",
      "INFO:root:Copying cropped block to datares\n",
      "INFO:root:New block, intended origin iz0,iy0,ix0 = 216,178,89 , use origin iz00,iy00,ix00 = 128,128,89 , end iz1,iy1,ix1 = 256,256,217\n",
      "INFO:root:Start RL deconvolution of this block\n",
      "INFO:root:doRLDeconvolution()\n",
      "INFO:root:RL completed, result collected\n",
      "INFO:root:Clearing GPU RAM\n",
      "INFO:root:This block's RL deconvolution completed\n",
      "INFO:root:Crop block result from origin jz0,jy0,jx0 = : 37,19,19\n",
      "INFO:root:Copying cropped block to datares\n",
      "INFO:root:New block, intended origin iz0,iy0,ix0 = 216,178,178 , use origin iz00,iy00,ix00 = 128,128,128 , end iz1,iy1,ix1 = 256,256,256\n",
      "INFO:root:Start RL deconvolution of this block\n",
      "INFO:root:doRLDeconvolution()\n",
      "INFO:root:RL completed, result collected\n",
      "INFO:root:Clearing GPU RAM\n",
      "INFO:root:This block's RL deconvolution completed\n",
      "INFO:root:Crop block result from origin jz0,jy0,jx0 = : 37,19,19\n",
      "INFO:root:Copying cropped block to datares\n",
      "INFO:root:Completed block RL deconvolution.\n"
     ]
    },
    {
     "name": "stdout",
     "output_type": "stream",
     "text": [
      "Completed\n",
      "res2 shape:(256, 256, 256), dtype: float32, max,min: 0.00954804103821516,0.0\n"
     ]
    }
   ],
   "source": [
    "import RedLionfishDeconv.RLDeconv3DReiknaOCL as rlocl\n",
    "print(\"Starting RL calculation using block_RLDeconv3DReiknaOCL()\")\n",
    "res2 = rlocl.block_RLDeconv3DReiknaOCL(data_large,psf_norm,niter=3, max_dim_size = 128)\n",
    "print(\"Completed\")\n",
    "print(f\"res2 shape:{res2.shape}, dtype: {res2.dtype}, max,min: {res2.max()},{res2.min()}\")"
   ]
  },
  {
   "cell_type": "code",
   "execution_count": 24,
   "metadata": {},
   "outputs": [
    {
     "name": "stdout",
     "output_type": "stream",
     "text": [
      "Starting RL calculation using skimage.restoration.richardson_lucy()\n",
      "Completed\n",
      "res_skimage shape:(256, 256, 256), dtype: float32, max,min: 0.0023623835295438766,-2.325488976731571e-12\n"
     ]
    }
   ],
   "source": [
    "import skimage.restoration\n",
    "print(\"Starting RL calculation using skimage.restoration.richardson_lucy()\")\n",
    "res_skimage = skimage.restoration.richardson_lucy(data_large,psf_norm, num_iter = 3, clip=False)\n",
    "print(\"Completed\")\n",
    "print(f\"res_skimage shape:{res_skimage.shape}, dtype: {res_skimage.dtype}, max,min: {res_skimage.max()},{res_skimage.min()}\")"
   ]
  },
  {
   "cell_type": "code",
   "execution_count": 25,
   "metadata": {},
   "outputs": [
    {
     "name": "stderr",
     "output_type": "stream",
     "text": [
      "INFO:root:change3DSizeTo() , shape:[320, 288, 288]\n"
     ]
    },
    {
     "name": "stderr",
     "output_type": "stream",
     "text": [
      "INFO:root:change3DSizeTo() , shape:[320, 288, 288]\n"
     ]
    },
    {
     "name": "stdout",
     "output_type": "stream",
     "text": [
      "Starting RL calculation using doRLDeconvolution12()\n"
     ]
    },
    {
     "name": "stderr",
     "output_type": "stream",
     "text": [
      "INFO:root:change3DSizeTo() , shape:(256, 256, 256)\n"
     ]
    },
    {
     "name": "stdout",
     "output_type": "stream",
     "text": [
      "Completed\n",
      "res3 shape:(256, 256, 256), dtype: float32, max,min: 0.010176570154726505,-1.5612606148351915e-05\n"
     ]
    }
   ],
   "source": [
    "print(\"Starting RL calculation using doRLDeconvolution12()\")\n",
    "res3 = rls.doRLDeconvolution12(data_large,psf_norm, niter=3)\n",
    "print(\"Completed\")\n",
    "print(f\"res3 shape:{res3.shape}, dtype: {res3.dtype}, max,min: {res3.max()},{res3.min()}\")"
   ]
  },
  {
   "cell_type": "code",
   "execution_count": 26,
   "metadata": {},
   "outputs": [
    {
     "name": "stdout",
     "output_type": "stream",
     "text": [
      "0.00010056159\n",
      "0.0013733553\n",
      "0.0013733553\n"
     ]
    }
   ],
   "source": [
    "#Maximum difference\n",
    "print(np.max(np.abs(res0-res_ocl_cuda)))\n",
    "print(np.max(np.abs(res0-res2)))\n",
    "print(np.max(np.abs(res0-res2)))"
   ]
  },
  {
   "cell_type": "code",
   "execution_count": 27,
   "metadata": {},
   "outputs": [
    {
     "name": "stdout",
     "output_type": "stream",
     "text": [
      "512.0001\n",
      "516.32837\n",
      "516.5071\n",
      "517.5692\n",
      "517.5157\n"
     ]
    }
   ],
   "source": [
    "#Just for curiosity, compare the sum of values before and after convolution\n",
    "print(np.sum(data_large))\n",
    "print(np.sum(res0))\n",
    "print(np.sum(res_ocl_cuda))\n",
    "print(np.sum(res2))\n",
    "print(np.sum(res_skimage))"
   ]
  },
  {
   "cell_type": "code",
   "execution_count": 28,
   "metadata": {},
   "outputs": [
    {
     "name": "stdout",
     "output_type": "stream",
     "text": [
      "0.0017753458 -3.2193867e-10\n",
      "0.009700462 -8.700174e-06\n",
      "0.00969618 0.0\n",
      "0.009548041 0.0\n",
      "0.0023623835 -2.325489e-12\n"
     ]
    }
   ],
   "source": [
    "print(np.max(data_large), np.min(data_large))\n",
    "print(np.max(res0), np.min(res0))\n",
    "print(np.max(res_ocl_cuda), np.min(res_ocl_cuda))\n",
    "print(np.max(res2), np.min(res2))\n",
    "print(np.max(res_skimage), np.min(res_skimage))"
   ]
  },
  {
   "cell_type": "code",
   "execution_count": 29,
   "metadata": {},
   "outputs": [
    {
     "data": {
      "text/plain": [
       "<Image layer 'res_skimage' at 0x14710795c90>"
      ]
     },
     "execution_count": 29,
     "metadata": {},
     "output_type": "execute_result"
    }
   ],
   "source": [
    "contrastlimit0 = [0.0,0.01]\n",
    "NV=napari.Viewer()\n",
    "NV.add_image(data_large, contrast_limits=contrastlimit0)\n",
    "NV.add_image(res0, contrast_limits=contrastlimit0)\n",
    "NV.add_image(res_ocl_cuda, contrast_limits=contrastlimit0)\n",
    "NV.add_image(res2, contrast_limits=contrastlimit0)\n",
    "NV.add_image(res_skimage, contrast_limits=contrastlimit0)"
   ]
  },
  {
   "cell_type": "code",
   "execution_count": 30,
   "metadata": {},
   "outputs": [
    {
     "name": "stdout",
     "output_type": "stream",
     "text": [
      "0.00010056159\n",
      "0.0013733553\n",
      "0.0013704346\n",
      "0.007582476\n"
     ]
    }
   ],
   "source": [
    "#Maximum difference\n",
    "print(np.max(np.abs(res_ocl_cuda-res0)))\n",
    "print(np.max(np.abs(res2-res0)))\n",
    "print(np.max(np.abs(res2-res_ocl_cuda)))\n",
    "print(np.max(np.abs(res_skimage-res0)))"
   ]
  },
  {
   "cell_type": "code",
   "execution_count": 31,
   "metadata": {},
   "outputs": [
    {
     "name": "stdout",
     "output_type": "stream",
     "text": [
      "True\n",
      "True\n",
      "True\n",
      "True\n"
     ]
    }
   ],
   "source": [
    "#Check between each others\n",
    "print(np.allclose(res_ocl_cuda,res0, rtol=1e-2, atol=1e-2))\n",
    "print(np.allclose(res2,res0, rtol=1e-2, atol=1e-2))\n",
    "print(np.allclose(res2,res_ocl_cuda, rtol=1e-2, atol=1e-2))\n",
    "print(np.allclose(res_skimage,res0, rtol=1e-2, atol=1e-2))"
   ]
  },
  {
   "cell_type": "code",
   "execution_count": null,
   "metadata": {},
   "outputs": [],
   "source": []
  },
  {
   "cell_type": "code",
   "execution_count": null,
   "metadata": {},
   "outputs": [],
   "source": []
  }
 ],
 "metadata": {
  "kernelspec": {
   "display_name": "Python 3.8.13 ('dev')",
   "language": "python",
   "name": "python3"
  },
  "language_info": {
   "codemirror_mode": {
    "name": "ipython",
    "version": 3
   },
   "file_extension": ".py",
   "mimetype": "text/x-python",
   "name": "python",
   "nbconvert_exporter": "python",
   "pygments_lexer": "ipython3",
   "version": "3.11.7"
  },
  "orig_nbformat": 4,
  "vscode": {
   "interpreter": {
    "hash": "ae9318eca6f153166416f971f14e35a175773b3b30438ae2aa8538d9aa021541"
   }
  }
 },
 "nbformat": 4,
 "nbformat_minor": 2
}
