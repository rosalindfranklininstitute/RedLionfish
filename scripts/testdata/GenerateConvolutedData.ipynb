{
    "cells": [
        {
            "cell_type": "markdown",
            "metadata": {},
            "source": [
                "# Generate data with small beads and Poisson noise from experimental PSF"
            ]
        },
        {
            "cell_type": "code",
            "execution_count": 1,
            "metadata": {},
            "outputs": [],
            "source": [
                "import numpy as np\n",
                "import tifffile"
            ]
        },
        {
            "cell_type": "code",
            "execution_count": 2,
            "metadata": {},
            "outputs": [],
            "source": [
                "import napari"
            ]
        },
        {
            "cell_type": "code",
            "execution_count": 4,
            "metadata": {},
            "outputs": [],
            "source": [
                "#Create a 2d array to do FFT\n",
                "ashape = (256,256,256)\n",
                "\n",
                "a = np.zeros(ashape, dtype=float)\n",
                "\n",
                "#Add a few cubes in grid-like locations\n",
                "cubesize=2\n",
                "cubespacing=60\n",
                "for iz in range(int(cubespacing/2),ashape[0],cubespacing):\n",
                "    for iy in range(int(cubespacing/2),ashape[1],cubespacing):\n",
                "        for ix in range(int(cubespacing/2),ashape[2],cubespacing):\n",
                "            a[iz:iz+cubesize , iy:iy+cubesize , ix:ix+cubesize] = np.ones((cubesize,cubesize,cubesize))"
            ]
        },
        {
            "cell_type": "code",
            "execution_count": 5,
            "metadata": {},
            "outputs": [],
            "source": [
                "nview_data  = napari.view_image(a, ndisplay=3)\n",
                "#OK"
            ]
        },
        {
            "cell_type": "code",
            "execution_count": null,
            "metadata": {},
            "outputs": [],
            "source": [
                "#Optionally save the data\n",
                "tifffile.imsave('test/gendata1_raw.tif', a)"
            ]
        },
        {
            "cell_type": "markdown",
            "metadata": {},
            "source": [
                "## Convolve data with the experimental 'Rosalind' Psf.\n",
                "\n",
                "Read data first"
            ]
        },
        {
            "cell_type": "code",
            "execution_count": 8,
            "metadata": {},
            "outputs": [],
            "source": [
                "psfdata=tifffile.imread('PSF_RFI_8bit.tif')"
            ]
        },
        {
            "cell_type": "code",
            "execution_count": 9,
            "metadata": {},
            "outputs": [
                {
                    "data": {
                        "text/plain": [
                            "numpy.ndarray"
                        ]
                    },
                    "execution_count": 9,
                    "metadata": {},
                    "output_type": "execute_result"
                }
            ],
            "source": [
                "type(psfdata)"
            ]
        },
        {
            "cell_type": "code",
            "execution_count": 10,
            "metadata": {},
            "outputs": [
                {
                    "data": {
                        "text/plain": [
                            "dtype('uint8')"
                        ]
                    },
                    "execution_count": 10,
                    "metadata": {},
                    "output_type": "execute_result"
                }
            ],
            "source": [
                "psfdata.dtype"
            ]
        },
        {
            "cell_type": "code",
            "execution_count": 11,
            "metadata": {},
            "outputs": [
                {
                    "data": {
                        "text/plain": [
                            "(61, 32, 32)"
                        ]
                    },
                    "execution_count": 11,
                    "metadata": {},
                    "output_type": "execute_result"
                }
            ],
            "source": [
                "psfdata.shape"
            ]
        },
        {
            "cell_type": "code",
            "execution_count": 12,
            "metadata": {},
            "outputs": [],
            "source": [
                "psfdata_norm = (psfdata.astype(float) - psfdata.min() ) / (psfdata.max() - psfdata.min())"
            ]
        },
        {
            "cell_type": "code",
            "execution_count": 13,
            "metadata": {},
            "outputs": [
                {
                    "name": "stderr",
                    "output_type": "stream",
                    "text": [
                        "Exception in callback BaseAsyncIOLoop._handle_events(4036, 1)\n",
                        "handle: <Handle BaseAsyncIOLoop._handle_events(4036, 1)>\n",
                        "Traceback (most recent call last):\n",
                        "  File \"C:\\Users\\Luis\\miniconda3\\envs\\dev\\lib\\asyncio\\events.py\", line 81, in _run\n",
                        "    self._context.run(self._callback, *self._args)\n",
                        "  File \"C:\\Users\\Luis\\miniconda3\\envs\\dev\\lib\\site-packages\\tornado\\platform\\asyncio.py\", line 189, in _handle_events\n",
                        "    handler_func(fileobj, events)\n",
                        "  File \"C:\\Users\\Luis\\miniconda3\\envs\\dev\\lib\\site-packages\\zmq\\eventloop\\zmqstream.py\", line 452, in _handle_events\n",
                        "    self._handle_recv()\n",
                        "  File \"C:\\Users\\Luis\\miniconda3\\envs\\dev\\lib\\site-packages\\zmq\\eventloop\\zmqstream.py\", line 481, in _handle_recv\n",
                        "    self._run_callback(callback, msg)\n",
                        "  File \"C:\\Users\\Luis\\miniconda3\\envs\\dev\\lib\\site-packages\\zmq\\eventloop\\zmqstream.py\", line 431, in _run_callback\n",
                        "    callback(*args, **kwargs)\n",
                        "  File \"C:\\Users\\Luis\\miniconda3\\envs\\dev\\lib\\site-packages\\jupyter_client\\threaded.py\", line 121, in _handle_recv\n",
                        "    msg_list = self.ioloop._asyncio_event_loop.run_until_complete(get_msg(future_msg))\n",
                        "  File \"C:\\Users\\Luis\\miniconda3\\envs\\dev\\lib\\asyncio\\base_events.py\", line 592, in run_until_complete\n",
                        "    self._check_running()\n",
                        "  File \"C:\\Users\\Luis\\miniconda3\\envs\\dev\\lib\\asyncio\\base_events.py\", line 554, in _check_running\n",
                        "    raise RuntimeError(\n",
                        "RuntimeError: Cannot run the event loop while another loop is running\n"
                    ]
                }
            ],
            "source": [
                "nview_psf = napari.view_image(psfdata_norm, ndisplay=3)"
            ]
        },
        {
            "cell_type": "markdown",
            "metadata": {},
            "source": [
                "## Convolve"
            ]
        },
        {
            "cell_type": "code",
            "execution_count": 14,
            "metadata": {},
            "outputs": [],
            "source": [
                "import scipy.signal"
            ]
        },
        {
            "cell_type": "code",
            "execution_count": 15,
            "metadata": {},
            "outputs": [],
            "source": [
                "data_convolved = scipy.signal.convolve(a, psfdata_norm, mode='same')"
            ]
        },
        {
            "cell_type": "code",
            "execution_count": 16,
            "metadata": {},
            "outputs": [
                {
                    "data": {
                        "text/plain": [
                            "(256, 256, 256)"
                        ]
                    },
                    "execution_count": 16,
                    "metadata": {},
                    "output_type": "execute_result"
                }
            ],
            "source": [
                "data_convolved.shape"
            ]
        },
        {
            "cell_type": "code",
            "execution_count": 28,
            "metadata": {},
            "outputs": [],
            "source": [
                "#normalises to 0-255 range\n",
                "data_convolved = (data_convolved - data_convolved.min()) / (data_convolved.max() - data_convolved.min())*255"
            ]
        },
        {
            "cell_type": "code",
            "execution_count": 29,
            "metadata": {},
            "outputs": [
                {
                    "name": "stdout",
                    "output_type": "stream",
                    "text": [
                        "255.0\n",
                        "0.0\n"
                    ]
                }
            ],
            "source": [
                "print(data_convolved.max())\n",
                "print(data_convolved.min())"
            ]
        },
        {
            "cell_type": "code",
            "execution_count": 36,
            "metadata": {},
            "outputs": [],
            "source": [
                "nview_dataconv = napari.view_image(data_convolved,ndisplay=3)"
            ]
        },
        {
            "cell_type": "markdown",
            "metadata": {},
            "source": [
                "## Add Poisson noise"
            ]
        },
        {
            "cell_type": "code",
            "execution_count": 30,
            "metadata": {},
            "outputs": [],
            "source": [
                "#data_convolved_noised = data_convolved + np.random.poisson(256 , size=ashape).astype(np.float32)/80\n",
                "#This method of adding does not look right. The original intensity should be the lambda poisson parameter in the function"
            ]
        },
        {
            "cell_type": "code",
            "execution_count": 31,
            "metadata": {},
            "outputs": [],
            "source": [
                "rng = np.random.default_rng()"
            ]
        },
        {
            "cell_type": "code",
            "execution_count": 34,
            "metadata": {},
            "outputs": [],
            "source": [
                "data_convolved_noised = rng.poisson(lam = data_convolved)"
            ]
        },
        {
            "cell_type": "code",
            "execution_count": 35,
            "metadata": {},
            "outputs": [],
            "source": [
                "nview_data_noised = napari.view_image(data_convolved_noised,ndisplay=3)"
            ]
        },
        {
            "cell_type": "code",
            "execution_count": 41,
            "metadata": {},
            "outputs": [],
            "source": [
                "data_convolved_noised_uint8 = ((data_convolved_noised - data_convolved_noised.min()) / ( data_convolved_noised.max() - data_convolved_noised.min() ) *255 ).astype(np.uint8)"
            ]
        },
        {
            "cell_type": "code",
            "execution_count": 43,
            "metadata": {},
            "outputs": [],
            "source": [
                "tifffile.imsave('test/gendata_psfconv_poiss.tif', data_convolved_noised_uint8)"
            ]
        },
        {
            "cell_type": "code",
            "execution_count": null,
            "metadata": {},
            "outputs": [],
            "source": []
        },
        {
            "cell_type": "code",
            "execution_count": null,
            "metadata": {},
            "outputs": [],
            "source": []
        },
        {
            "cell_type": "markdown",
            "metadata": {},
            "source": [
                "# Create large data"
            ]
        },
        {
            "cell_type": "code",
            "execution_count": 1,
            "metadata": {},
            "outputs": [],
            "source": [
                "import numpy as np\n",
                "import tifffile\n",
                "import napari\n",
                "import scipy.signal\n",
                "\n",
                "#Create a 2d array to do FFT\n",
                "ashape = (60,1026,1544) # Casper LM size\n",
                "a = np.zeros(ashape, dtype=float)\n",
                "#a = np.random.poisson(256 , size=(size0,size0,size0)).astype(np.float32)/2000\n",
                "\n",
                "#Add a few cubes in grid-like locations\n",
                "cubesize=2\n",
                "cubespacing=67\n",
                "for iz in range(5,ashape[0],cubespacing):\n",
                "    for iy in range(5,ashape[1],cubespacing):\n",
                "        for ix in range(5,ashape[2],cubespacing):\n",
                "            a[iz:iz+cubesize , iy:iy+cubesize , ix:ix+cubesize] = np.ones((cubesize,cubesize,cubesize))\n",
                "\n",
                "#Read psf\n",
                "psfdata=tifffile.imread('PSF_RFI_8bit.tif')\n",
                "psfdata_norm = (psfdata.astype(float) - psfdata.min() ) / (psfdata.max() - psfdata.min())\n",
                "\n",
                "#Convolve\n",
                "data_convolved = scipy.signal.convolve(a, psfdata_norm, mode='same')\n",
                "\n",
                "#Adjust max/min and intensity\n",
                "data_convolved = (data_convolved - data_convolved.min()) / (data_convolved.max() - data_convolved.min())*255\n",
                "\n",
                "#Noisify with Poisson\n",
                "rng = np.random.default_rng()\n",
                "data_convolved_noised = rng.poisson(lam = data_convolved)\n",
                "data_convolved_noised_uint8 = ((data_convolved_noised - data_convolved_noised.min()) / ( data_convolved_noised.max() - data_convolved_noised.min() ) *255 ).astype(np.uint8)"
            ]
        },
        {
            "cell_type": "code",
            "execution_count": null,
            "metadata": {},
            "outputs": [],
            "source": [
                "tifffile.imsave('gendata_psfconv_poiss_large.tif', data_convolved_noised_uint8)"
            ]
        },
        {
            "cell_type": "code",
            "execution_count": null,
            "metadata": {},
            "outputs": [],
            "source": []
        },
        {
            "cell_type": "markdown",
            "metadata": {},
            "source": [
                "# Create very large data"
            ]
        },
        {
            "cell_type": "code",
            "execution_count": 4,
            "metadata": {},
            "outputs": [],
            "source": [
                "import numpy as np\n",
                "import tifffile\n",
                "import napari\n",
                "import scipy.signal\n",
                "\n",
                "#Create a 2d array to do FFT\n",
                "ashape = (51,2048,2048) # Jeonyoon Choi\n",
                "a = np.zeros(ashape, dtype=float)\n",
                "#a = np.random.poisson(256 , size=(size0,size0,size0)).astype(np.float32)/2000\n",
                "\n",
                "#Add a few cubes in grid-like locations\n",
                "cubesize=2\n",
                "cubespacing=67\n",
                "for iz in range(5,ashape[0],cubespacing):\n",
                "    for iy in range(5,ashape[1],cubespacing):\n",
                "        for ix in range(5,ashape[2],cubespacing):\n",
                "            a[iz:iz+cubesize , iy:iy+cubesize , ix:ix+cubesize] = np.ones((cubesize,cubesize,cubesize))\n",
                "\n",
                "#Read psf\n",
                "psfdata=tifffile.imread('PSF_RFI_8bit.tif')\n",
                "psfdata_norm = (psfdata.astype(float) - psfdata.min() ) / (psfdata.max() - psfdata.min())\n",
                "\n",
                "#Convolve\n",
                "data_convolved = scipy.signal.convolve(a, psfdata_norm, mode='same')\n",
                "\n",
                "#Adjust max/min and intensity\n",
                "data_convolved = (data_convolved - data_convolved.min()) / (data_convolved.max() - data_convolved.min())*255\n",
                "\n",
                "#Noisify with Poisson\n",
                "rng = np.random.default_rng()\n",
                "data_convolved_noised = rng.poisson(lam = data_convolved)\n",
                "data_convolved_noised_uint8 = ((data_convolved_noised - data_convolved_noised.min()) / ( data_convolved_noised.max() - data_convolved_noised.min() ) *255 ).astype(np.uint8)"
            ]
        },
        {
            "cell_type": "code",
            "execution_count": null,
            "metadata": {},
            "outputs": [],
            "source": [
                "nview_data_noised = napari.view_image(data_convolved_noised_uint8,ndisplay=3)"
            ]
        },
        {
            "cell_type": "code",
            "execution_count": 3,
            "metadata": {},
            "outputs": [
                {
                    "ename": "NameError",
                    "evalue": "name 'data_convolved_noised_uint8' is not defined",
                    "output_type": "error",
                    "traceback": [
                        "\u001b[1;31m---------------------------------------------------------------------------\u001b[0m",
                        "\u001b[1;31mNameError\u001b[0m                                 Traceback (most recent call last)",
                        "\u001b[1;32m~\\AppData\\Local\\Temp/ipykernel_2316/1192351226.py\u001b[0m in \u001b[0;36m<module>\u001b[1;34m\u001b[0m\n\u001b[1;32m----> 1\u001b[1;33m \u001b[0mtifffile\u001b[0m\u001b[1;33m.\u001b[0m\u001b[0mimsave\u001b[0m\u001b[1;33m(\u001b[0m\u001b[1;34m'gendata_psfconv_poiss_vlarge.tif'\u001b[0m\u001b[1;33m,\u001b[0m \u001b[0mdata_convolved_noised_uint8\u001b[0m\u001b[1;33m)\u001b[0m\u001b[1;33m\u001b[0m\u001b[1;33m\u001b[0m\u001b[0m\n\u001b[0m",
                        "\u001b[1;31mNameError\u001b[0m: name 'data_convolved_noised_uint8' is not defined"
                    ]
                }
            ],
            "source": [
                "tifffile.imsave('gendata_psfconv_poiss_vlarge.tif', data_convolved_noised_uint8)"
            ]
        },
        {
            "cell_type": "code",
            "execution_count": null,
            "metadata": {},
            "outputs": [],
            "source": []
        }
    ],
    "metadata": {
        "kernelspec": {
            "display_name": "Python 3.8.13 ('dev')",
            "language": "python",
            "name": "python3"
        },
        "language_info": {
            "codemirror_mode": {
                "name": "ipython",
                "version": 3
            },
            "file_extension": ".py",
            "mimetype": "text/x-python",
            "name": "python",
            "nbconvert_exporter": "python",
            "pygments_lexer": "ipython3",
            "version": "3.8.13"
        },
        "orig_nbformat": 4,
        "vscode": {
            "interpreter": {
                "hash": "ae9318eca6f153166416f971f14e35a175773b3b30438ae2aa8538d9aa021541"
            }
        }
    },
    "nbformat": 4,
    "nbformat_minor": 2
}
