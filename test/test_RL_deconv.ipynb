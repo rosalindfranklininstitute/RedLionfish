{
 "cells": [
  {
   "cell_type": "code",
   "execution_count": 1,
   "metadata": {},
   "outputs": [],
   "source": [
    "#Testing in local computer using VScode\n",
    "#import sys\n",
    "#sys.path.append('..')"
   ]
  },
  {
   "cell_type": "code",
   "execution_count": 2,
   "metadata": {},
   "outputs": [],
   "source": [
    "import RedLionfishDeconv as rl\n",
    "import tifffile"
   ]
  },
  {
   "cell_type": "code",
   "execution_count": 3,
   "metadata": {},
   "outputs": [
    {
     "name": "stderr",
     "output_type": "stream",
     "text": [
      "ERROR:root:Failed to setup Reikna with OpenCL.\n",
      "ERROR:root:No module named 'pytools'\n"
     ]
    },
    {
     "name": "stdout",
     "output_type": "stream",
     "text": [
      "No Reikna.\n"
     ]
    }
   ],
   "source": [
    "import RedLionfishDeconv.RLDeconv3DReiknaOCL as rlfocl\n",
    "rlfocl.printGPUInfo()"
   ]
  },
  {
   "cell_type": "code",
   "execution_count": 2,
   "metadata": {},
   "outputs": [
    {
     "name": "stdout",
     "output_type": "stream",
     "text": [
      "data.shape: (60, 1026, 1544)\n",
      "psf.shape: (61, 32, 32)\n"
     ]
    }
   ],
   "source": [
    "#Load some data\n",
    "data = tifffile.imread(\"./testdata/gendata_psfconv_poiss_large.tif\")\n",
    "psf = tifffile.imread(\"./testdata/PSF_RFI_8bit.tif\")\n",
    "\n",
    "print(f\"data.shape: {data.shape}\")\n",
    "print(f\"psf.shape: {psf.shape}\")"
   ]
  },
  {
   "cell_type": "code",
   "execution_count": 4,
   "metadata": {},
   "outputs": [
    {
     "name": "stderr",
     "output_type": "stream",
     "text": [
      "ERROR:root:Shape (60, 1026, 1544) is too large for OpenCL device shape limits [1024, 1024, 64]\n"
     ]
    }
   ],
   "source": [
    "res_gpu = rl.doRLDeconvolutionFromNpArrays(data,psf, niter=10)"
   ]
  },
  {
   "cell_type": "code",
   "execution_count": 5,
   "metadata": {},
   "outputs": [
    {
     "name": "stdout",
     "output_type": "stream",
     "text": [
      "res_gpu.shape: (60, 1026, 1544)\n"
     ]
    }
   ],
   "source": [
    "print(f\"res_gpu.shape: {res_gpu.shape}\")"
   ]
  },
  {
   "cell_type": "code",
   "execution_count": 6,
   "metadata": {},
   "outputs": [],
   "source": [
    "res_gpu_uint8 = rl.helperfunctions.convertToUint8AndFullRange(res_gpu)"
   ]
  },
  {
   "cell_type": "code",
   "execution_count": 3,
   "metadata": {},
   "outputs": [],
   "source": [
    "res_cpu = rl.doRLDeconvolutionFromNpArrays(data,psf,10,method='cpu')"
   ]
  },
  {
   "cell_type": "code",
   "execution_count": 6,
   "metadata": {},
   "outputs": [
    {
     "data": {
      "text/plain": [
       "(60, 1026, 1544)"
      ]
     },
     "execution_count": 6,
     "metadata": {},
     "output_type": "execute_result"
    }
   ],
   "source": [
    "res_cpu.shape"
   ]
  },
  {
   "cell_type": "code",
   "execution_count": 7,
   "metadata": {},
   "outputs": [
    {
     "ename": "AttributeError",
     "evalue": "module 'RedLionfishDeconv' has no attribute 'helperfunctions'",
     "output_type": "error",
     "traceback": [
      "\u001b[1;31m---------------------------------------------------------------------------\u001b[0m",
      "\u001b[1;31mAttributeError\u001b[0m                            Traceback (most recent call last)",
      "\u001b[1;32m~\\AppData\\Local\\Temp/ipykernel_2256/410612220.py\u001b[0m in \u001b[0;36m<module>\u001b[1;34m\u001b[0m\n\u001b[1;32m----> 1\u001b[1;33m \u001b[0mres_cpu_uint8\u001b[0m \u001b[1;33m=\u001b[0m \u001b[0mrl\u001b[0m\u001b[1;33m.\u001b[0m\u001b[0mhelperfunctions\u001b[0m\u001b[1;33m.\u001b[0m\u001b[0mconvertToUint8AndFullRange\u001b[0m\u001b[1;33m(\u001b[0m\u001b[0mres_cpu\u001b[0m\u001b[1;33m)\u001b[0m\u001b[1;33m\u001b[0m\u001b[1;33m\u001b[0m\u001b[0m\n\u001b[0m",
      "\u001b[1;31mAttributeError\u001b[0m: module 'RedLionfishDeconv' has no attribute 'helperfunctions'"
     ]
    }
   ],
   "source": [
    "res_cpu_uint8 = rl.helperfunctions.convertToUint8AndFullRange(res_cpu)"
   ]
  },
  {
   "cell_type": "code",
   "execution_count": null,
   "metadata": {},
   "outputs": [],
   "source": [
    "import napari\n",
    "np = napari.view_image(res_gpu_uint8, ndisplay=3)\n",
    "np.add_image(res_cpu_uint8)"
   ]
  },
  {
   "cell_type": "code",
   "execution_count": null,
   "metadata": {},
   "outputs": [],
   "source": []
  }
 ],
 "metadata": {
  "kernelspec": {
   "display_name": "Python 3.8.13 ('dev')",
   "language": "python",
   "name": "python3"
  },
  "language_info": {
   "codemirror_mode": {
    "name": "ipython",
    "version": 3
   },
   "file_extension": ".py",
   "mimetype": "text/x-python",
   "name": "python",
   "nbconvert_exporter": "python",
   "pygments_lexer": "ipython3",
   "version": "3.8.13"
  },
  "vscode": {
   "interpreter": {
    "hash": "ae9318eca6f153166416f971f14e35a175773b3b30438ae2aa8538d9aa021541"
   }
  }
 },
 "nbformat": 4,
 "nbformat_minor": 4
}
